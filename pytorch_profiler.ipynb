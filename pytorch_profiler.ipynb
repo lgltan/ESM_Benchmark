{
  "cells": [
    {
      "cell_type": "code",
      "execution_count": 1,
      "id": "68ea93eb",
      "metadata": {},
      "outputs": [],
      "source": [
        "import torch\n",
        "from transformers import AutoTokenizer, EsmForMaskedLM\n",
        "from transformers.models.esm.openfold_utils.protein import to_pdb, Protein as OFProtein\n",
        "from transformers.models.esm.openfold_utils.feats import atom14_to_atom37\n",
        "import torch.nn as nn\n",
        "from torch.utils.data import Dataset, DataLoader\n",
        "\n",
        "from pyJoules.device.nvidia_device import NvidiaGPUDomain\n",
        "from pyJoules.handler.pandas_handler import PandasHandler\n",
        "from pyJoules.energy_meter import measure_energy\n",
        "\n",
        "from Bio import SeqIO\n",
        "import pandas as pd\n",
        "import numpy as np\n",
        "from time import perf_counter_ns\n",
        "import matplotlib.pyplot as plt\n",
        "import gc\n",
        "\n",
        "from thop import profile, clever_format\n",
        "\n",
        "\n",
        "SEQ_MAX_LEN = 5000\n",
        "SAMPLES = 8000\n",
        "batch_size = 1\n",
        "\n",
        "loss_fn = nn.CrossEntropyLoss()\n",
        "pandas_handler = PandasHandler()"
      ]
    },
    {
      "cell_type": "code",
      "execution_count": 2,
      "id": "90eb57c8",
      "metadata": {},
      "outputs": [],
      "source": [
        "ESM_8M = \"facebook/esm2_t6_8M_UR50D\"\n",
        "ESM_35M = \"facebook/esm2_t12_35M_UR50D\"\n",
        "ESM_150M = \"facebook/esm2_t30_150M_UR50D\"\n",
        "ESM_650M = \"facebook/esm2_t33_650M_UR50D\"\n",
        "ESM_3B = \"facebook/esm2_t36_3B_UR50D\""
      ]
    },
    {
      "cell_type": "code",
      "execution_count": 4,
      "id": "5917ba15",
      "metadata": {},
      "outputs": [],
      "source": [
        "MODEL = ESM_8M\n",
        "TOKENIZER = ESM_8M"
      ]
    },
    {
      "cell_type": "markdown",
      "id": "c07db042",
      "metadata": {},
      "source": [
        "### CUDA/Torch GPU Setup"
      ]
    },
    {
      "cell_type": "code",
      "execution_count": 5,
      "id": "037cb538",
      "metadata": {},
      "outputs": [
        {
          "name": "stdout",
          "output_type": "stream",
          "text": [
            "Using GPU: NVIDIA GeForce RTX 3050 Ti Laptop GPU\n"
          ]
        }
      ],
      "source": [
        "if torch.cuda.is_available():\n",
        "    device = torch.device(\"cuda\")\n",
        "    print(\"Using GPU:\", torch.cuda.get_device_name(0))\n",
        "else:\n",
        "    device = torch.device(\"cpu\")\n",
        "    print(\"Using CPU\")"
      ]
    },
    {
      "cell_type": "markdown",
      "id": "c056923a",
      "metadata": {},
      "source": [
        "## Convert FASTA file to pd.DataFrame for easier processing"
      ]
    },
    {
      "cell_type": "code",
      "execution_count": 6,
      "id": "af331da5",
      "metadata": {},
      "outputs": [],
      "source": [
        "def fasta_to_dataframe(fasta_file):\n",
        "    records = []\n",
        "    for seq_record in SeqIO.parse(fasta_file, 'fasta'):\n",
        "        if len(records) >= SAMPLES:\n",
        "            break\n",
        "        # Extract the ID after '>tr'\n",
        "        id_info = seq_record.id.split('|')[1] # Adjust the index based on your FASTA file format\n",
        "        sequence = str(seq_record.seq)\n",
        "        if (len(sequence) >= SEQ_MAX_LEN):\n",
        "            continue \n",
        "        \n",
        "        # Generate a random index within the range of the sequence length\n",
        "        random_index = np.random.randint(0, min(len(sequence), SEQ_MAX_LEN))\n",
        "        # Replace the character at the random index with '<mask>'\n",
        "        masked_sequence = sequence[:random_index] + '<mask>' + sequence[random_index+1:]\n",
        "        \n",
        "        records.append([id_info, sequence, masked_sequence])\n",
        "    \n",
        "    # Create a DataFrame from the records\n",
        "    df = pd.DataFrame(records, columns=['ID', 'Sequence', 'Masked_Sequence'])\n",
        "    return df"
      ]
    },
    {
      "cell_type": "markdown",
      "id": "4ff414cf",
      "metadata": {},
      "source": [
        "## Create Dataset"
      ]
    },
    {
      "cell_type": "code",
      "execution_count": 7,
      "id": "efe2e930",
      "metadata": {},
      "outputs": [],
      "source": [
        "fasta_df = fasta_to_dataframe(\"human_protein_seq/uniprotkb_proteome_UP000005640.fasta\")\n"
      ]
    },
    {
      "cell_type": "code",
      "execution_count": 8,
      "id": "c8ee6f32",
      "metadata": {},
      "outputs": [
        {
          "data": {
            "text/html": [
              "<div>\n",
              "<style scoped>\n",
              "    .dataframe tbody tr th:only-of-type {\n",
              "        vertical-align: middle;\n",
              "    }\n",
              "\n",
              "    .dataframe tbody tr th {\n",
              "        vertical-align: top;\n",
              "    }\n",
              "\n",
              "    .dataframe thead th {\n",
              "        text-align: right;\n",
              "    }\n",
              "</style>\n",
              "<table border=\"1\" class=\"dataframe\">\n",
              "  <thead>\n",
              "    <tr style=\"text-align: right;\">\n",
              "      <th></th>\n",
              "      <th>ID</th>\n",
              "      <th>Sequence</th>\n",
              "      <th>Masked_Sequence</th>\n",
              "    </tr>\n",
              "  </thead>\n",
              "  <tbody>\n",
              "    <tr>\n",
              "      <th>0</th>\n",
              "      <td>A0A075B6G3</td>\n",
              "      <td>MLWWEEVEDCYEREDVQKKTFTKWVNAQFSKFGKQHIENLFSDLQD...</td>\n",
              "      <td>MLWWEEVEDCYEREDVQKKTFTKWVNAQFSKFGKQHIENLFSDLQD...</td>\n",
              "    </tr>\n",
              "    <tr>\n",
              "      <th>1</th>\n",
              "      <td>A0A087WV00</td>\n",
              "      <td>MDAAGRGCHLLPLPAARGPARAPAAAAAAAASPPGPCSGAACAPSA...</td>\n",
              "      <td>MDAAGRGCHLLPLPAARGPARAPAAAAAAAASPPGPCSGAACAPSA...</td>\n",
              "    </tr>\n",
              "    <tr>\n",
              "      <th>2</th>\n",
              "      <td>A0A087WZT3</td>\n",
              "      <td>MELSAEYLREKLQRDLEAEHVLPSPGGVGQVRGETAASETQLGS</td>\n",
              "      <td>MELSAEYLREKLQRDLEAEHV&lt;mask&gt;PSPGGVGQVRGETAASETQLGS</td>\n",
              "    </tr>\n",
              "    <tr>\n",
              "      <th>3</th>\n",
              "      <td>A0A087X1C5</td>\n",
              "      <td>MGLEALVPLAMIVAIFLLLVDLMHRHQRWAARYPPGPLPLPGLGNL...</td>\n",
              "      <td>MGLEALVPLAMIVAI&lt;mask&gt;LLLVDLMHRHQRWAARYPPGPLPLP...</td>\n",
              "    </tr>\n",
              "    <tr>\n",
              "      <th>4</th>\n",
              "      <td>A0A087X296</td>\n",
              "      <td>MSRSLLLWFLLFLLLLPPLPVLLADPGAPTPVNPCCYYPCQHQGIC...</td>\n",
              "      <td>MSRSLLLWFLLFLLLLPPLPVLLADPGAPTPVNPCCYYPCQHQGIC...</td>\n",
              "    </tr>\n",
              "  </tbody>\n",
              "</table>\n",
              "</div>"
            ],
            "text/plain": [
              "           ID                                           Sequence  \\\n",
              "0  A0A075B6G3  MLWWEEVEDCYEREDVQKKTFTKWVNAQFSKFGKQHIENLFSDLQD...   \n",
              "1  A0A087WV00  MDAAGRGCHLLPLPAARGPARAPAAAAAAAASPPGPCSGAACAPSA...   \n",
              "2  A0A087WZT3       MELSAEYLREKLQRDLEAEHVLPSPGGVGQVRGETAASETQLGS   \n",
              "3  A0A087X1C5  MGLEALVPLAMIVAIFLLLVDLMHRHQRWAARYPPGPLPLPGLGNL...   \n",
              "4  A0A087X296  MSRSLLLWFLLFLLLLPPLPVLLADPGAPTPVNPCCYYPCQHQGIC...   \n",
              "\n",
              "                                     Masked_Sequence  \n",
              "0  MLWWEEVEDCYEREDVQKKTFTKWVNAQFSKFGKQHIENLFSDLQD...  \n",
              "1  MDAAGRGCHLLPLPAARGPARAPAAAAAAAASPPGPCSGAACAPSA...  \n",
              "2  MELSAEYLREKLQRDLEAEHV<mask>PSPGGVGQVRGETAASETQLGS  \n",
              "3  MGLEALVPLAMIVAI<mask>LLLVDLMHRHQRWAARYPPGPLPLP...  \n",
              "4  MSRSLLLWFLLFLLLLPPLPVLLADPGAPTPVNPCCYYPCQHQGIC...  "
            ]
          },
          "execution_count": 8,
          "metadata": {},
          "output_type": "execute_result"
        }
      ],
      "source": [
        "fasta_df.head()"
      ]
    },
    {
      "cell_type": "code",
      "execution_count": 9,
      "id": "931f1a97",
      "metadata": {},
      "outputs": [
        {
          "data": {
            "text/plain": [
              "(8000, 3)"
            ]
          },
          "execution_count": 9,
          "metadata": {},
          "output_type": "execute_result"
        }
      ],
      "source": [
        "fasta_df.shape"
      ]
    },
    {
      "cell_type": "markdown",
      "id": "1dca9819",
      "metadata": {
        "id": "1dca9819"
      },
      "source": [
        "## Preparing your model and tokenizer"
      ]
    },
    {
      "cell_type": "markdown",
      "id": "c418e286",
      "metadata": {
        "id": "c418e286"
      },
      "source": [
        "Now we load our model and tokenizer. If using GPU, use `model.cuda()` to transfer the model to GPU."
      ]
    },
    {
      "cell_type": "code",
      "execution_count": 10,
      "id": "c200c170",
      "metadata": {
        "id": "c200c170"
      },
      "outputs": [],
      "source": [
        "tokenizer = AutoTokenizer.from_pretrained(TOKENIZER)\n",
        "model = EsmForMaskedLM.from_pretrained(MODEL)"
      ]
    },
    {
      "cell_type": "code",
      "execution_count": 67,
      "id": "c7becd0a",
      "metadata": {},
      "outputs": [],
      "source": [
        "class FastaDataset(Dataset):\n",
        "    def __init__(self, fasta_df, tokenizer):\n",
        "        self.fasta_df = fasta_df\n",
        "        self.tokenizer = tokenizer\n",
        "\n",
        "    def __len__(self):\n",
        "        return len(self.fasta_df)\n",
        "\n",
        "    def __getitem__(self, idx):\n",
        "        fasta_row = self.fasta_df.iloc[idx]\n",
        "        latency_time_stamps = []\n",
        "        # TIME LOG: start\n",
        "        latency_time_stamps.append(perf_counter_ns())\n",
        "\n",
        "        # Tokenize the input and move it to the correct device\n",
        "        inputs = tokenizer(fasta_row[\"Masked_Sequence\"], max_length=min(len(fasta_row[\"Masked_Sequence\"]), SEQ_MAX_LEN), truncation=True, return_tensors='pt')\n",
        "        \n",
        "        # TIME LOG: tokenize\n",
        "        latency_time_stamps.append(perf_counter_ns())\n",
        "        \n",
        "        inputs = {k: v.to(device) for k, v in inputs.items()}\n",
        "        \n",
        "        # TIME LOG: move_to_gpu\n",
        "        latency_time_stamps.append(perf_counter_ns())\n",
        "        \n",
        "        unmasked_text = fasta_row['Sequence']\n",
        "        masked_text = fasta_row[\"Masked_Sequence\"]\n",
        "        mask_position = masked_text.find('<mask>')\n",
        "        actual_token = unmasked_text[mask_position]\n",
        "        \n",
        "        with torch.no_grad():\n",
        "            logits = model(**inputs).logits\n",
        "        \n",
        "        # TIME LOG: model\n",
        "        latency_time_stamps.append(perf_counter_ns())\n",
        "\n",
        "        memusage = 0\n",
        "        params = 0\n",
        "\n",
        "        with torch.no_grad():\n",
        "            profiler_input = inputs['input_ids']\n",
        "            macs, p = profile(model, inputs=(profiler_input, ))\n",
        "            memusage = macs \n",
        "            params = p\n",
        "\n",
        "        # Convert the actual token to its corresponding ID\n",
        "        actual_token_id = tokenizer.encode(actual_token, add_special_tokens=False)[0]\n",
        "        one_hot = nn.functional.one_hot(torch.tensor([actual_token_id]), 33)[0].float()\n",
        "        one_hot = one_hot.to(device)\n",
        "        # Calculate the cross-entropy loss\n",
        "        logits = logits[0][mask_position]\n",
        "        loss = loss_fn(logits, one_hot)\n",
        "        \n",
        "        # Convert the fasta_row to a dictionary before returning\n",
        "        fasta_row_dict = fasta_row.to_dict()\n",
        "        \n",
        "        return loss, latency_time_stamps, fasta_row_dict, memusage, params\n"
      ]
    },
    {
      "cell_type": "code",
      "execution_count": 68,
      "id": "f1beddcc",
      "metadata": {},
      "outputs": [],
      "source": [
        "# Instantiate the dataset\n",
        "fasta_dataset = FastaDataset(fasta_df, tokenizer)\n",
        "\n",
        "# Create a DataLoader\n",
        "dataloader = DataLoader(fasta_dataset, batch_size=batch_size, shuffle=False)"
      ]
    },
    {
      "cell_type": "code",
      "execution_count": 69,
      "id": "7530acda",
      "metadata": {},
      "outputs": [
        {
          "data": {
            "text/plain": [
              "EsmForMaskedLM(\n",
              "  (esm): EsmModel(\n",
              "    (embeddings): EsmEmbeddings(\n",
              "      (word_embeddings): Embedding(33, 320, padding_idx=1)\n",
              "      (dropout): Dropout(p=0.0, inplace=False)\n",
              "      (position_embeddings): Embedding(1026, 320, padding_idx=1)\n",
              "    )\n",
              "    (encoder): EsmEncoder(\n",
              "      (layer): ModuleList(\n",
              "        (0-5): 6 x EsmLayer(\n",
              "          (attention): EsmAttention(\n",
              "            (self): EsmSelfAttention(\n",
              "              (query): Linear(in_features=320, out_features=320, bias=True)\n",
              "              (key): Linear(in_features=320, out_features=320, bias=True)\n",
              "              (value): Linear(in_features=320, out_features=320, bias=True)\n",
              "              (dropout): Dropout(p=0.0, inplace=False)\n",
              "              (rotary_embeddings): RotaryEmbedding()\n",
              "            )\n",
              "            (output): EsmSelfOutput(\n",
              "              (dense): Linear(in_features=320, out_features=320, bias=True)\n",
              "              (dropout): Dropout(p=0.0, inplace=False)\n",
              "            )\n",
              "            (LayerNorm): LayerNorm((320,), eps=1e-05, elementwise_affine=True)\n",
              "          )\n",
              "          (intermediate): EsmIntermediate(\n",
              "            (dense): Linear(in_features=320, out_features=1280, bias=True)\n",
              "          )\n",
              "          (output): EsmOutput(\n",
              "            (dense): Linear(in_features=1280, out_features=320, bias=True)\n",
              "            (dropout): Dropout(p=0.0, inplace=False)\n",
              "          )\n",
              "          (LayerNorm): LayerNorm((320,), eps=1e-05, elementwise_affine=True)\n",
              "        )\n",
              "      )\n",
              "      (emb_layer_norm_after): LayerNorm((320,), eps=1e-05, elementwise_affine=True)\n",
              "    )\n",
              "    (contact_head): EsmContactPredictionHead(\n",
              "      (regression): Linear(in_features=120, out_features=1, bias=True)\n",
              "      (activation): Sigmoid()\n",
              "    )\n",
              "  )\n",
              "  (lm_head): EsmLMHead(\n",
              "    (dense): Linear(in_features=320, out_features=320, bias=True)\n",
              "    (layer_norm): LayerNorm((320,), eps=1e-05, elementwise_affine=True)\n",
              "    (decoder): Linear(in_features=320, out_features=33, bias=False)\n",
              "  )\n",
              ")"
            ]
          },
          "execution_count": 69,
          "metadata": {},
          "output_type": "execute_result"
        }
      ],
      "source": [
        "# Ensure the model is in evaluation mode\n",
        "model.eval()\n",
        "\n",
        "model.to(device)"
      ]
    },
    {
      "cell_type": "code",
      "execution_count": 70,
      "id": "05ac6543",
      "metadata": {},
      "outputs": [
        {
          "name": "stdout",
          "output_type": "stream",
          "text": [
            "Running test on 8000 sequences.\n",
            "Processing... 0.00%\n",
            "[INFO] Register zero_ops() for <class 'torch.nn.modules.dropout.Dropout'>.\n",
            "[INFO] Register count_linear() for <class 'torch.nn.modules.linear.Linear'>.\n",
            "[INFO] Register count_normalization() for <class 'torch.nn.modules.normalization.LayerNorm'>.\n",
            "[INFO] Register zero_ops() for <class 'torch.nn.modules.dropout.Dropout'>.\n",
            "[INFO] Register count_linear() for <class 'torch.nn.modules.linear.Linear'>.\n",
            "[INFO] Register count_normalization() for <class 'torch.nn.modules.normalization.LayerNorm'>.\n",
            "[INFO] Register zero_ops() for <class 'torch.nn.modules.dropout.Dropout'>.\n",
            "[INFO] Register count_linear() for <class 'torch.nn.modules.linear.Linear'>.\n",
            "[INFO] Register count_normalization() for <class 'torch.nn.modules.normalization.LayerNorm'>.\n",
            "[INFO] Register zero_ops() for <class 'torch.nn.modules.dropout.Dropout'>.\n",
            "[INFO] Register count_linear() for <class 'torch.nn.modules.linear.Linear'>.\n",
            "[INFO] Register count_normalization() for <class 'torch.nn.modules.normalization.LayerNorm'>.\n",
            "[INFO] Register zero_ops() for <class 'torch.nn.modules.dropout.Dropout'>.\n",
            "[INFO] Register count_linear() for <class 'torch.nn.modules.linear.Linear'>.\n",
            "[INFO] Register count_normalization() for <class 'torch.nn.modules.normalization.LayerNorm'>.\n"
          ]
        }
      ],
      "source": [
        "print(f\"Running test on {fasta_df.shape[0]} sequences.\")\n",
        "\n",
        "gc.disable()\n",
        "\n",
        "# set up accuracy & latency info - leave this in the same code block so that it resets each time\n",
        "accuracy = []\n",
        "latency = pd.DataFrame(columns=['start', 'tokenize', 'move_to_gpu', 'model', \"end\"])\n",
        "sequence_length = []\n",
        "macs = []\n",
        "memory_usage = []\n",
        "ctr = 0\n",
        "iter_dl = iter(dataloader)\n",
        "\n",
        "@measure_energy(domains=[NvidiaGPUDomain(0)], handler=pandas_handler)\n",
        "def run(accuracy, latency, iter_dl):\n",
        "    loss, latency_time_stamps, fasta_row, mac, params = next(iter_dl)\n",
        "\n",
        "    fasta_df = pd.DataFrame.from_dict(fasta_row)\n",
        "\n",
        "    # TIME LOG: end\n",
        "    latency_time_stamps.append(perf_counter_ns())\n",
        "\n",
        "    # Append the loss to a list or use it as needed\n",
        "    accuracy.append(loss.item())\n",
        "    \n",
        "    macs.append(mac.item())\n",
        "    memory_usage.append(params.item())    \n",
        "    # memory_usage.append(torch.cuda.memory_allocated())\n",
        "\n",
        "    # unrolled loop\n",
        "    latency_time_stamps[0] = int(latency_time_stamps[0])\n",
        "    latency_time_stamps[1] = int(latency_time_stamps[1])\n",
        "    latency_time_stamps[2] = int(latency_time_stamps[2])\n",
        "    latency_time_stamps[3] = int(latency_time_stamps[3])\n",
        "    \n",
        "    # print(latency_time_stamps)\n",
        "    latency.loc[len(latency.index)] = latency_time_stamps\n",
        "    # print(fasta_df)\n",
        "    \n",
        "    return len(fasta_df[\"Sequence\"][0])\n",
        "\n",
        "torch.cuda.empty_cache()\n",
        "\n",
        "for ctr in range(5):\n",
        "# for ctr in range(fasta_df.shape[0]):\n",
        "    if ctr % 100 == 0:\n",
        "        percentage = \"{:.2f}\".format(ctr * 100 / fasta_df.shape[0])\n",
        "        print(f\"Processing... {percentage}%\")\n",
        "\n",
        "    torch.cuda.empty_cache()\n",
        "    # try to save as much memory as possible by reducing fragmentation\n",
        "    gc.collect()\n",
        "    \n",
        "    # load model to GPU\n",
        "    model.to(device)\n",
        "    sequence_length.append(run(accuracy, latency, iter_dl))\n",
        "    \n",
        "    # try to remove anything no longer needed on the GPU mem\n",
        "    gc.collect()\n",
        "            \n",
        "gc.enable()\n",
        "gpu_util_df = pandas_handler.get_dataframe()"
      ]
    },
    {
      "cell_type": "markdown",
      "id": "3cbc7ea5",
      "metadata": {},
      "source": [
        "### Cross Entropy Loss x Sequence Length"
      ]
    },
    {
      "cell_type": "code",
      "execution_count": null,
      "id": "740b5e83",
      "metadata": {},
      "outputs": [],
      "source": [
        "accuracy = np.array(accuracy) \n",
        "sequence_length = np.array(sequence_length)\n",
        "flops = np.array(macs)\n",
        "memory_usage = np.array(memory_usage)\n",
        "\n",
        "latency_df = pd.DataFrame(columns=['tokenization', 'move_inputs_to_gpu', 'model_process', 'cross_entropy_loss'])\n",
        "\n",
        "latency_df[\"tokenization\"] = latency[\"tokenize\"] - latency[\"start\"]\n",
        "latency_df[\"move_inputs_to_gpu\"] = latency[\"move_to_gpu\"] - latency[\"tokenize\"]\n",
        "latency_df[\"model_process\"] = latency[\"model\"] - latency[\"move_to_gpu\"]\n",
        "latency_df[\"cross_entropy_loss\"] = latency[\"end\"] - latency[\"model\"]\n",
        "\n",
        "duration = gpu_util_df[\"duration\"] * 100000\n",
        "\n",
        "lat_gpu_slen = {\"Latency\": duration, \"GPU_Utilization\": gpu_util_df[\"nvidia_gpu_0\"], \"Sequence_Length\": sequence_length}"
      ]
    },
    {
      "cell_type": "code",
      "execution_count": null,
      "id": "5f08c1a4",
      "metadata": {},
      "outputs": [],
      "source": [
        "mpath = MODEL.split('/')[1]\n",
        "\n",
        "np.save(mpath + 'macs', flops)\n",
        "np.save(mpath + 'memory', memory_usage)\n",
        "np.save(mpath + 'accuracy', accuracy)\n",
        "np.save(mpath + 'seql', sequence_length)\n",
        "latency_df.to_csv(\"csv/\" + mpath + '_latency')\n",
        "gpu_util_df.to_csv(\"csv/\" + mpath + '_gpu_slen')"
      ]
    },
    {
      "cell_type": "code",
      "execution_count": null,
      "id": "9e389c03",
      "metadata": {},
      "outputs": [],
      "source": [
        "# Create a scatter plot\n",
        "plt.scatter(sequence_length, accuracy)\n",
        "\n",
        "# Label the axes\n",
        "plt.xlabel('Sequence Length')\n",
        "plt.ylabel('Cross Entropy Loss')\n",
        "\n",
        "# Add a title\n",
        "plt.title('Sequence Length vs. Cross Entropy Loss')\n",
        "\n",
        "# Display the plot\n",
        "plt.show()"
      ]
    },
    {
      "cell_type": "markdown",
      "id": "91685e88",
      "metadata": {},
      "source": [
        "To get a better visualization, limit it to sequences below 10k length"
      ]
    },
    {
      "cell_type": "code",
      "execution_count": null,
      "id": "8245db0c",
      "metadata": {},
      "outputs": [],
      "source": [
        "reduced_s_len = []\n",
        "reduced_acc = []\n",
        "\n",
        "# remove outliers\n",
        "for id, s_len in enumerate(sequence_length):\n",
        "    if s_len <= 10000:\n",
        "        reduced_s_len.append(sequence_length[id])\n",
        "        reduced_acc.append(accuracy[id])\n",
        "\n",
        "# Create a scatter plot\n",
        "plt.scatter(reduced_s_len, reduced_acc)\n",
        "\n",
        "# Label the axes\n",
        "plt.xlabel('Sequence Length')\n",
        "plt.ylabel('Cross Entropy Loss')\n",
        "\n",
        "# Add a title\n",
        "plt.title('[Truncated] Sequence Length vs. Cross Entropy Loss')\n",
        "\n",
        "# Display the plot\n",
        "plt.show()"
      ]
    },
    {
      "cell_type": "markdown",
      "id": "277350aa",
      "metadata": {},
      "source": [
        "## Latency/Time Log"
      ]
    },
    {
      "cell_type": "code",
      "execution_count": null,
      "id": "9e828976",
      "metadata": {},
      "outputs": [],
      "source": [
        "# latency = pd.DataFrame(columns=['start', 'tokenize', 'move_to_gpu', 'model', \"end\"])\n",
        "# get_cel = get cross entropy loss\n",
        "latency_df = pd.DataFrame(columns=['tokenization', 'move_inputs_to_gpu', 'model_process', 'cross_entropy_loss'])\n",
        "\n",
        "latency_df[\"tokenization\"] = latency[\"tokenize\"] - latency[\"start\"]\n",
        "latency_df[\"move_inputs_to_gpu\"] = latency[\"move_to_gpu\"] - latency[\"tokenize\"]\n",
        "latency_df[\"model_process\"] = latency[\"model\"] - latency[\"move_to_gpu\"]\n",
        "latency_df[\"cross_entropy_loss\"] = latency[\"end\"] - latency[\"model\"]\n",
        "\n",
        "latency_sums = latency_df.sum()\n",
        "# Create a bar plot\n",
        "latency_sums.plot(kind='bar')\n",
        "\n",
        "# Add title and labels\n",
        "plt.title('Total Latency per Step')\n",
        "\n",
        "# Display the plot\n",
        "plt.show()"
      ]
    },
    {
      "cell_type": "markdown",
      "id": "cd006353",
      "metadata": {},
      "source": [
        "### Latency & GPU Usage vs Sequence Length"
      ]
    },
    {
      "cell_type": "code",
      "execution_count": null,
      "id": "89cb4527",
      "metadata": {},
      "outputs": [],
      "source": [
        "gpu_util_df.head()"
      ]
    },
    {
      "cell_type": "code",
      "execution_count": null,
      "id": "9618d45e",
      "metadata": {},
      "outputs": [],
      "source": [
        "# Normalize Duration\n",
        "duration = gpu_util_df[\"duration\"] * 100000\n",
        "\n",
        "lat_gpu_slen = {\"Latency\": duration, \"GPU_Utilization\": gpu_util_df[\"nvidia_gpu_0\"], \"Sequence_Length\": sequence_length}\n",
        "lat_gpu_slen_df = pd.DataFrame(lat_gpu_slen)\n",
        "lat_gpu_slen_df = lat_gpu_slen_df.sort_values(by = 'Sequence_Length')\n",
        "\n",
        "# Plot multiple lines\n",
        "plt.plot(lat_gpu_slen_df[\"Sequence_Length\"], lat_gpu_slen_df[\"GPU_Utilization\"], label='GPU_Utilization')\n",
        "plt.plot(lat_gpu_slen_df[\"Sequence_Length\"], lat_gpu_slen_df[\"Latency\"], label='Latency')\n",
        "\n",
        "plt.xlabel('Sequence Length')\n",
        "plt.ylabel('10ns / Joule')\n",
        "\n",
        "plt.title(\"Latency/GPU Util vs Sequence Length\")\n",
        "plt.legend()\n",
        "\n",
        "plt.show()"
      ]
    },
    {
      "cell_type": "markdown",
      "id": "7b8635e0",
      "metadata": {},
      "source": [
        "Remove Outliers by limiting it to 10k"
      ]
    },
    {
      "cell_type": "code",
      "execution_count": null,
      "id": "ba4d0524",
      "metadata": {},
      "outputs": [],
      "source": [
        "reduced_lat_gpu_slen_df = lat_gpu_slen_df[lat_gpu_slen_df[\"Sequence_Length\"] <= 10000]\n",
        "\n",
        "# Plot multiple lines\n",
        "plt.plot(reduced_lat_gpu_slen_df[\"Sequence_Length\"], reduced_lat_gpu_slen_df[\"GPU_Utilization\"], label='GPU_Utilization')\n",
        "plt.plot(reduced_lat_gpu_slen_df[\"Sequence_Length\"], reduced_lat_gpu_slen_df[\"Latency\"], label='Latency')\n",
        "\n",
        "plt.xlabel('Sequence Length')\n",
        "plt.ylabel('10ns / Joule')\n",
        "\n",
        "plt.title(\"[Truncated] Latency/GPU Util vs Sequence Length\")\n",
        "plt.legend()\n",
        "\n",
        "plt.show()"
      ]
    }
  ],
  "metadata": {
    "colab": {
      "provenance": []
    },
    "kernelspec": {
      "display_name": "Python 3 (ipykernel)",
      "language": "python",
      "name": "python3"
    },
    "language_info": {
      "codemirror_mode": {
        "name": "ipython",
        "version": 3
      },
      "file_extension": ".py",
      "mimetype": "text/x-python",
      "name": "python",
      "nbconvert_exporter": "python",
      "pygments_lexer": "ipython3",
      "version": "3.11.3"
    }
  },
  "nbformat": 4,
  "nbformat_minor": 5
}
