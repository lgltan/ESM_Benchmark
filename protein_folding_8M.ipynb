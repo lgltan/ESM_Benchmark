{
  "cells": [
    {
      "cell_type": "code",
      "execution_count": 6,
      "id": "68ea93eb",
      "metadata": {},
      "outputs": [],
      "source": [
        "import torch\n",
        "from transformers import AutoTokenizer, EsmModel\n",
        "from transformers.models.esm.openfold_utils.protein import to_pdb, Protein as OFProtein\n",
        "from transformers.models.esm.openfold_utils.feats import atom14_to_atom37\n",
        "\n",
        "from Bio import SeqIO\n",
        "import pandas as pd\n",
        "import numpy as np"
      ]
    },
    {
      "cell_type": "markdown",
      "id": "c056923a",
      "metadata": {},
      "source": [
        "## Convert FASTA file to pd.DataFrame for easier processing"
      ]
    },
    {
      "cell_type": "code",
      "execution_count": 7,
      "id": "af331da5",
      "metadata": {},
      "outputs": [],
      "source": [
        "def fasta_to_dataframe(fasta_file):\n",
        "    records = []\n",
        "    for seq_record in SeqIO.parse(fasta_file, 'fasta'):\n",
        "        # Extract the ID after '>tr'\n",
        "        id_info = seq_record.id.split('|')[1] # Adjust the index based on your FASTA file format\n",
        "        sequence = str(seq_record.seq)\n",
        "        \n",
        "        # Generate a random index within the range of the sequence length\n",
        "        random_index = np.random.randint(0, len(sequence))\n",
        "        # Replace the character at the random index with '<mask>'\n",
        "        masked_sequence = sequence[:random_index] + '<mask>' + sequence[random_index+1:]\n",
        "        \n",
        "        records.append([id_info, sequence, masked_sequence])\n",
        "    \n",
        "    # Create a DataFrame from the records\n",
        "    df = pd.DataFrame(records, columns=['ID', 'Sequence', 'Masked_Sequence'])\n",
        "    return df"
      ]
    },
    {
      "cell_type": "markdown",
      "id": "4ff414cf",
      "metadata": {},
      "source": [
        "## Create Dataset"
      ]
    },
    {
      "cell_type": "code",
      "execution_count": 8,
      "id": "efe2e930",
      "metadata": {},
      "outputs": [],
      "source": [
        "fasta_df = fasta_to_dataframe(\"human_protein_seq/uniprotkb_proteome_UP000005640.fasta\")"
      ]
    },
    {
      "cell_type": "code",
      "execution_count": 9,
      "id": "c8ee6f32",
      "metadata": {},
      "outputs": [
        {
          "data": {
            "text/html": [
              "<div>\n",
              "<style scoped>\n",
              "    .dataframe tbody tr th:only-of-type {\n",
              "        vertical-align: middle;\n",
              "    }\n",
              "\n",
              "    .dataframe tbody tr th {\n",
              "        vertical-align: top;\n",
              "    }\n",
              "\n",
              "    .dataframe thead th {\n",
              "        text-align: right;\n",
              "    }\n",
              "</style>\n",
              "<table border=\"1\" class=\"dataframe\">\n",
              "  <thead>\n",
              "    <tr style=\"text-align: right;\">\n",
              "      <th></th>\n",
              "      <th>ID</th>\n",
              "      <th>Sequence</th>\n",
              "      <th>Masked_Sequence</th>\n",
              "    </tr>\n",
              "  </thead>\n",
              "  <tbody>\n",
              "    <tr>\n",
              "      <th>0</th>\n",
              "      <td>A0A075B6G3</td>\n",
              "      <td>MLWWEEVEDCYEREDVQKKTFTKWVNAQFSKFGKQHIENLFSDLQD...</td>\n",
              "      <td>MLWWEEVEDCYEREDVQKKTFTKWVNAQFSKFGKQHIENLFSDLQD...</td>\n",
              "    </tr>\n",
              "    <tr>\n",
              "      <th>1</th>\n",
              "      <td>A0A087WV00</td>\n",
              "      <td>MDAAGRGCHLLPLPAARGPARAPAAAAAAAASPPGPCSGAACAPSA...</td>\n",
              "      <td>MDAAGRGCHLLPLPAARGPARAPAAAAAAAASPPGPCSGAACAPSA...</td>\n",
              "    </tr>\n",
              "    <tr>\n",
              "      <th>2</th>\n",
              "      <td>A0A087WZT3</td>\n",
              "      <td>MELSAEYLREKLQRDLEAEHVLPSPGGVGQVRGETAASETQLGS</td>\n",
              "      <td>ME&lt;mask&gt;SAEYLREKLQRDLEAEHVLPSPGGVGQVRGETAASETQLGS</td>\n",
              "    </tr>\n",
              "    <tr>\n",
              "      <th>3</th>\n",
              "      <td>A0A087X1C5</td>\n",
              "      <td>MGLEALVPLAMIVAIFLLLVDLMHRHQRWAARYPPGPLPLPGLGNL...</td>\n",
              "      <td>MGLEALVPLAMIVAIFLLLVDLMHRHQRWAARYPPGPLPLPGLGNL...</td>\n",
              "    </tr>\n",
              "    <tr>\n",
              "      <th>4</th>\n",
              "      <td>A0A087X296</td>\n",
              "      <td>MSRSLLLWFLLFLLLLPPLPVLLADPGAPTPVNPCCYYPCQHQGIC...</td>\n",
              "      <td>MSRSLLLWFLLFLLLLPPLPVLLADPGAPTPVNPCCYYPCQHQGIC...</td>\n",
              "    </tr>\n",
              "  </tbody>\n",
              "</table>\n",
              "</div>"
            ],
            "text/plain": [
              "           ID                                           Sequence  \\\n",
              "0  A0A075B6G3  MLWWEEVEDCYEREDVQKKTFTKWVNAQFSKFGKQHIENLFSDLQD...   \n",
              "1  A0A087WV00  MDAAGRGCHLLPLPAARGPARAPAAAAAAAASPPGPCSGAACAPSA...   \n",
              "2  A0A087WZT3       MELSAEYLREKLQRDLEAEHVLPSPGGVGQVRGETAASETQLGS   \n",
              "3  A0A087X1C5  MGLEALVPLAMIVAIFLLLVDLMHRHQRWAARYPPGPLPLPGLGNL...   \n",
              "4  A0A087X296  MSRSLLLWFLLFLLLLPPLPVLLADPGAPTPVNPCCYYPCQHQGIC...   \n",
              "\n",
              "                                     Masked_Sequence  \n",
              "0  MLWWEEVEDCYEREDVQKKTFTKWVNAQFSKFGKQHIENLFSDLQD...  \n",
              "1  MDAAGRGCHLLPLPAARGPARAPAAAAAAAASPPGPCSGAACAPSA...  \n",
              "2  ME<mask>SAEYLREKLQRDLEAEHVLPSPGGVGQVRGETAASETQLGS  \n",
              "3  MGLEALVPLAMIVAIFLLLVDLMHRHQRWAARYPPGPLPLPGLGNL...  \n",
              "4  MSRSLLLWFLLFLLLLPPLPVLLADPGAPTPVNPCCYYPCQHQGIC...  "
            ]
          },
          "execution_count": 9,
          "metadata": {},
          "output_type": "execute_result"
        }
      ],
      "source": [
        "fasta_df.head()"
      ]
    },
    {
      "cell_type": "markdown",
      "id": "1dca9819",
      "metadata": {
        "id": "1dca9819"
      },
      "source": [
        "## Preparing your model and tokenizer"
      ]
    },
    {
      "cell_type": "markdown",
      "id": "c418e286",
      "metadata": {
        "id": "c418e286"
      },
      "source": [
        "Now we load our model and tokenizer. If using GPU, use `model.cuda()` to transfer the model to GPU."
      ]
    },
    {
      "cell_type": "code",
      "execution_count": 10,
      "id": "c200c170",
      "metadata": {
        "id": "c200c170"
      },
      "outputs": [
        {
          "name": "stderr",
          "output_type": "stream",
          "text": [
            "Some weights of EsmModel were not initialized from the model checkpoint at facebook/esm2_t6_8M_UR50D and are newly initialized: ['esm.pooler.dense.bias', 'esm.pooler.dense.weight']\n",
            "You should probably TRAIN this model on a down-stream task to be able to use it for predictions and inference.\n"
          ]
        }
      ],
      "source": [
        "tokenizer = AutoTokenizer.from_pretrained(\"facebook/esm2_t6_8M_UR50D\")\n",
        "model = EsmModel.from_pretrained(\"facebook/esm2_t6_8M_UR50D\")\n",
        "\n",
        "model = model.cuda()"
      ]
    },
    {
      "cell_type": "code",
      "execution_count": 19,
      "id": "854f65b4",
      "metadata": {},
      "outputs": [
        {
          "name": "stderr",
          "output_type": "stream",
          "text": [
            "Token indices sequence length is longer than the specified maximum sequence length for this model (3685 > 1024). Running this sequence through the model will result in indexing errors\n"
          ]
        }
      ],
      "source": [
        "tokenized_fasta_df = pd.DataFrame(columns=['ID', 'Tokenized_Sequence'])\n",
        "\n",
        "for id, fasta_row in fasta_df.iterrows():\n",
        "    # Tokenize the sequence\n",
        "    tokenized_sequence = tokenizer([fasta_row[\"Masked_Sequence\"]], return_tensors=\"pt\", add_special_tokens=False)['input_ids']\n",
        "    \n",
        "    # Create a DataFrame for the current protein sequence\n",
        "    current_df = pd.DataFrame({'ID': [fasta_row[\"ID\"]], 'Tokenized_Sequence': [tokenized_sequence]})\n",
        "    \n",
        "    # Concatenate the current DataFrame with the existing tokenized_fasta_df\n",
        "    tokenized_fasta_df = pd.concat([tokenized_fasta_df, current_df], ignore_index=True)"
      ]
    },
    {
      "cell_type": "code",
      "execution_count": 20,
      "id": "f4cdc4f2",
      "metadata": {},
      "outputs": [
        {
          "data": {
            "text/html": [
              "<div>\n",
              "<style scoped>\n",
              "    .dataframe tbody tr th:only-of-type {\n",
              "        vertical-align: middle;\n",
              "    }\n",
              "\n",
              "    .dataframe tbody tr th {\n",
              "        vertical-align: top;\n",
              "    }\n",
              "\n",
              "    .dataframe thead th {\n",
              "        text-align: right;\n",
              "    }\n",
              "</style>\n",
              "<table border=\"1\" class=\"dataframe\">\n",
              "  <thead>\n",
              "    <tr style=\"text-align: right;\">\n",
              "      <th></th>\n",
              "      <th>ID</th>\n",
              "      <th>Tokenized_Sequence</th>\n",
              "    </tr>\n",
              "  </thead>\n",
              "  <tbody>\n",
              "    <tr>\n",
              "      <th>0</th>\n",
              "      <td>A0A075B6G3</td>\n",
              "      <td>[[tensor(20), tensor(4), tensor(22), tensor(22...</td>\n",
              "    </tr>\n",
              "    <tr>\n",
              "      <th>1</th>\n",
              "      <td>A0A087WV00</td>\n",
              "      <td>[[tensor(20), tensor(13), tensor(5), tensor(5)...</td>\n",
              "    </tr>\n",
              "    <tr>\n",
              "      <th>2</th>\n",
              "      <td>A0A087WZT3</td>\n",
              "      <td>[[tensor(20), tensor(9), tensor(32), tensor(8)...</td>\n",
              "    </tr>\n",
              "    <tr>\n",
              "      <th>3</th>\n",
              "      <td>A0A087X1C5</td>\n",
              "      <td>[[tensor(20), tensor(6), tensor(4), tensor(9),...</td>\n",
              "    </tr>\n",
              "    <tr>\n",
              "      <th>4</th>\n",
              "      <td>A0A087X296</td>\n",
              "      <td>[[tensor(20), tensor(8), tensor(10), tensor(8)...</td>\n",
              "    </tr>\n",
              "  </tbody>\n",
              "</table>\n",
              "</div>"
            ],
            "text/plain": [
              "           ID                                 Tokenized_Sequence\n",
              "0  A0A075B6G3  [[tensor(20), tensor(4), tensor(22), tensor(22...\n",
              "1  A0A087WV00  [[tensor(20), tensor(13), tensor(5), tensor(5)...\n",
              "2  A0A087WZT3  [[tensor(20), tensor(9), tensor(32), tensor(8)...\n",
              "3  A0A087X1C5  [[tensor(20), tensor(6), tensor(4), tensor(9),...\n",
              "4  A0A087X296  [[tensor(20), tensor(8), tensor(10), tensor(8)..."
            ]
          },
          "execution_count": 20,
          "metadata": {},
          "output_type": "execute_result"
        }
      ],
      "source": [
        "tokenized_fasta_df.head()"
      ]
    },
    {
      "cell_type": "code",
      "execution_count": 33,
      "id": "1bc05bdb",
      "metadata": {},
      "outputs": [],
      "source": [
        "fasta_int = tokenized_fasta_df[\"Tokenized_Sequence\"].tolist()"
      ]
    },
    {
      "cell_type": "code",
      "execution_count": 36,
      "id": "d9bee4f5",
      "metadata": {},
      "outputs": [],
      "source": [
        "# Check if CUDA is available\n",
        "if torch.cuda.is_available():\n",
        "    device = torch.device('cuda')\n",
        "    # Move each tensor to the GPU\n",
        "    fasta_gpu = [tensor.to(device) for tensor in fasta_int]\n",
        "else:\n",
        "    print(\"CUDA is not available. Running on CPU.\")"
      ]
    },
    {
      "cell_type": "markdown",
      "id": "30d178a6",
      "metadata": {},
      "source": [
        "Check if entire DF was moved to GPU"
      ]
    },
    {
      "cell_type": "code",
      "execution_count": 40,
      "id": "554ef4f2",
      "metadata": {},
      "outputs": [],
      "source": [
        "for row in fasta_gpu:\n",
        "    if not row.is_cuda: # per line should be on GPU\n",
        "        print(\"NOT ON GPU\")"
      ]
    },
    {
      "cell_type": "markdown",
      "id": "93de27aa",
      "metadata": {},
      "source": [
        "## Run model per tokenized sequence on GPU from `fasta_gpu`"
      ]
    },
    {
      "cell_type": "code",
      "execution_count": null,
      "id": "61b67188",
      "metadata": {},
      "outputs": [],
      "source": [
        "# convert tokens back to string and compare with original string - add col to original df and set true or false depending on accuracy\n",
        "with torch.no_grad():\n",
        "    output = model(fasta_gpu)"
      ]
    },
    {
      "cell_type": "markdown",
      "id": "4eb65fe1",
      "metadata": {},
      "source": [
        "## Get model's total accuracy"
      ]
    },
    {
      "cell_type": "code",
      "execution_count": null,
      "id": "707fad0d",
      "metadata": {
        "id": "707fad0d",
        "scrolled": true
      },
      "outputs": [],
      "source": []
    },
    {
      "cell_type": "markdown",
      "id": "985c3c8f",
      "metadata": {},
      "source": [
        "Get latency, memory, power consumption, energy consumption\n",
        "- latency is per sequence\n",
        "- latency graph of sequence length vs latency\n",
        "- accuracy graph of sequence length vs accuracy"
      ]
    }
  ],
  "metadata": {
    "colab": {
      "provenance": []
    },
    "kernelspec": {
      "display_name": "Python 3 (ipykernel)",
      "language": "python",
      "name": "python3"
    },
    "language_info": {
      "codemirror_mode": {
        "name": "ipython",
        "version": 3
      },
      "file_extension": ".py",
      "mimetype": "text/x-python",
      "name": "python",
      "nbconvert_exporter": "python",
      "pygments_lexer": "ipython3",
      "version": "3.12.1"
    }
  },
  "nbformat": 4,
  "nbformat_minor": 5
}
