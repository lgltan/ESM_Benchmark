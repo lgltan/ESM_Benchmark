{
  "cells": [
    {
      "cell_type": "code",
      "execution_count": 9,
      "id": "68ea93eb",
      "metadata": {},
      "outputs": [],
      "source": [
        "import torch\n",
        "from transformers import AutoTokenizer, EsmForMaskedLM\n",
        "from transformers.models.esm.openfold_utils.protein import to_pdb, Protein as OFProtein\n",
        "from transformers.models.esm.openfold_utils.feats import atom14_to_atom37\n",
        "\n",
        "from Bio import SeqIO\n",
        "import pandas as pd\n",
        "import numpy as np\n",
        "from time import perf_counter_ns\n",
        "import matplotlib.pyplot as plt\n",
        "import gc\n",
        "\n",
        "SEQ_MAX_LEN = 8096"
      ]
    },
    {
      "cell_type": "markdown",
      "id": "c07db042",
      "metadata": {},
      "source": [
        "### CUDA/Torch GPU Setup"
      ]
    },
    {
      "cell_type": "code",
      "execution_count": 10,
      "id": "037cb538",
      "metadata": {},
      "outputs": [
        {
          "name": "stdout",
          "output_type": "stream",
          "text": [
            "Using GPU: NVIDIA GeForce RTX 4060 Ti\n"
          ]
        }
      ],
      "source": [
        "if torch.cuda.is_available():\n",
        "    device = torch.device(\"cuda\")\n",
        "    print(\"Using GPU:\", torch.cuda.get_device_name(0))\n",
        "else:\n",
        "    device = torch.device(\"cpu\")\n",
        "    print(\"Using CPU\")"
      ]
    },
    {
      "cell_type": "markdown",
      "id": "c056923a",
      "metadata": {},
      "source": [
        "## Convert FASTA file to pd.DataFrame for easier processing"
      ]
    },
    {
      "cell_type": "code",
      "execution_count": 11,
      "id": "af331da5",
      "metadata": {},
      "outputs": [],
      "source": [
        "def fasta_to_dataframe(fasta_file):\n",
        "    records = []\n",
        "    for seq_record in SeqIO.parse(fasta_file, 'fasta'):\n",
        "        # Extract the ID after '>tr'\n",
        "        id_info = seq_record.id.split('|')[1] # Adjust the index based on your FASTA file format\n",
        "        sequence = str(seq_record.seq)\n",
        "        \n",
        "        # Generate a random index within the range of the sequence length\n",
        "        random_index = np.random.randint(0, min(len(sequence), SEQ_MAX_LEN))\n",
        "        # Replace the character at the random index with '<mask>'\n",
        "        masked_sequence = sequence[:random_index] + '<mask>' + sequence[random_index+1:]\n",
        "        \n",
        "        records.append([id_info, sequence, masked_sequence])\n",
        "    \n",
        "    # Create a DataFrame from the records\n",
        "    df = pd.DataFrame(records, columns=['ID', 'Sequence', 'Masked_Sequence'])\n",
        "    return df"
      ]
    },
    {
      "cell_type": "markdown",
      "id": "4ff414cf",
      "metadata": {},
      "source": [
        "## Create Dataset"
      ]
    },
    {
      "cell_type": "code",
      "execution_count": 12,
      "id": "efe2e930",
      "metadata": {},
      "outputs": [],
      "source": [
        "fasta_df = fasta_to_dataframe(\"human_protein_seq/uniprotkb_proteome_UP000005640.fasta\")"
      ]
    },
    {
      "cell_type": "code",
      "execution_count": 13,
      "id": "c8ee6f32",
      "metadata": {},
      "outputs": [
        {
          "data": {
            "text/html": [
              "<div>\n",
              "<style scoped>\n",
              "    .dataframe tbody tr th:only-of-type {\n",
              "        vertical-align: middle;\n",
              "    }\n",
              "\n",
              "    .dataframe tbody tr th {\n",
              "        vertical-align: top;\n",
              "    }\n",
              "\n",
              "    .dataframe thead th {\n",
              "        text-align: right;\n",
              "    }\n",
              "</style>\n",
              "<table border=\"1\" class=\"dataframe\">\n",
              "  <thead>\n",
              "    <tr style=\"text-align: right;\">\n",
              "      <th></th>\n",
              "      <th>ID</th>\n",
              "      <th>Sequence</th>\n",
              "      <th>Masked_Sequence</th>\n",
              "    </tr>\n",
              "  </thead>\n",
              "  <tbody>\n",
              "    <tr>\n",
              "      <th>0</th>\n",
              "      <td>A0A075B6G3</td>\n",
              "      <td>MLWWEEVEDCYEREDVQKKTFTKWVNAQFSKFGKQHIENLFSDLQD...</td>\n",
              "      <td>MLWWEEVEDCYEREDVQKKTFTKWVNAQFSKFGKQHIENLFSDLQD...</td>\n",
              "    </tr>\n",
              "    <tr>\n",
              "      <th>1</th>\n",
              "      <td>A0A087WV00</td>\n",
              "      <td>MDAAGRGCHLLPLPAARGPARAPAAAAAAAASPPGPCSGAACAPSA...</td>\n",
              "      <td>MDAAGRGCHLLPLPAARGPARAPAAAAAAAASPPGPCSGAACAPSA...</td>\n",
              "    </tr>\n",
              "    <tr>\n",
              "      <th>2</th>\n",
              "      <td>A0A087WZT3</td>\n",
              "      <td>MELSAEYLREKLQRDLEAEHVLPSPGGVGQVRGETAASETQLGS</td>\n",
              "      <td>MELSAEYLREKLQRDLEAEHVL&lt;mask&gt;SPGGVGQVRGETAASETQLGS</td>\n",
              "    </tr>\n",
              "    <tr>\n",
              "      <th>3</th>\n",
              "      <td>A0A087X1C5</td>\n",
              "      <td>MGLEALVPLAMIVAIFLLLVDLMHRHQRWAARYPPGPLPLPGLGNL...</td>\n",
              "      <td>MGLEALVPLAMIVAIFLLLVDLMHRHQRWAARYPPGPLPLPGLGNL...</td>\n",
              "    </tr>\n",
              "    <tr>\n",
              "      <th>4</th>\n",
              "      <td>A0A087X296</td>\n",
              "      <td>MSRSLLLWFLLFLLLLPPLPVLLADPGAPTPVNPCCYYPCQHQGIC...</td>\n",
              "      <td>MSRSLLLWFLLFLLLLPPLPVLLADPGAPTPV&lt;mask&gt;PCCYYPCQ...</td>\n",
              "    </tr>\n",
              "  </tbody>\n",
              "</table>\n",
              "</div>"
            ],
            "text/plain": [
              "           ID                                           Sequence  \\\n",
              "0  A0A075B6G3  MLWWEEVEDCYEREDVQKKTFTKWVNAQFSKFGKQHIENLFSDLQD...   \n",
              "1  A0A087WV00  MDAAGRGCHLLPLPAARGPARAPAAAAAAAASPPGPCSGAACAPSA...   \n",
              "2  A0A087WZT3       MELSAEYLREKLQRDLEAEHVLPSPGGVGQVRGETAASETQLGS   \n",
              "3  A0A087X1C5  MGLEALVPLAMIVAIFLLLVDLMHRHQRWAARYPPGPLPLPGLGNL...   \n",
              "4  A0A087X296  MSRSLLLWFLLFLLLLPPLPVLLADPGAPTPVNPCCYYPCQHQGIC...   \n",
              "\n",
              "                                     Masked_Sequence  \n",
              "0  MLWWEEVEDCYEREDVQKKTFTKWVNAQFSKFGKQHIENLFSDLQD...  \n",
              "1  MDAAGRGCHLLPLPAARGPARAPAAAAAAAASPPGPCSGAACAPSA...  \n",
              "2  MELSAEYLREKLQRDLEAEHVL<mask>SPGGVGQVRGETAASETQLGS  \n",
              "3  MGLEALVPLAMIVAIFLLLVDLMHRHQRWAARYPPGPLPLPGLGNL...  \n",
              "4  MSRSLLLWFLLFLLLLPPLPVLLADPGAPTPV<mask>PCCYYPCQ...  "
            ]
          },
          "execution_count": 13,
          "metadata": {},
          "output_type": "execute_result"
        }
      ],
      "source": [
        "fasta_df.head()"
      ]
    },
    {
      "cell_type": "markdown",
      "id": "1dca9819",
      "metadata": {
        "id": "1dca9819"
      },
      "source": [
        "## Preparing your model and tokenizer"
      ]
    },
    {
      "cell_type": "markdown",
      "id": "c418e286",
      "metadata": {
        "id": "c418e286"
      },
      "source": [
        "Now we load our model and tokenizer. If using GPU, use `model.cuda()` to transfer the model to GPU."
      ]
    },
    {
      "cell_type": "code",
      "execution_count": 14,
      "id": "c200c170",
      "metadata": {
        "id": "c200c170"
      },
      "outputs": [],
      "source": [
        "tokenizer = AutoTokenizer.from_pretrained(\"facebook/esm2_t6_8M_UR50D\")\n",
        "model = EsmForMaskedLM.from_pretrained(\"facebook/esm2_t6_8M_UR50D\")"
      ]
    },
    {
      "cell_type": "code",
      "execution_count": 15,
      "id": "7530acda",
      "metadata": {},
      "outputs": [],
      "source": [
        "# Ensure the model is in evaluation mode\n",
        "model.eval()\n",
        "device = torch.device(\"cuda\" if torch.cuda.is_available() else \"cpu\")"
      ]
    },
    {
      "cell_type": "code",
      "execution_count": null,
      "id": "05ac6543",
      "metadata": {},
      "outputs": [],
      "source": [
        "print(f\"Running test on {fasta_df.shape[0]} sequences.\")\n",
        "\n",
        "# set up accuracy & latency info - leave this in the same code block so that it resets each time\n",
        "accuracy = []\n",
        "latency = pd.DataFrame(columns=['start', 'tokenize', 'move_to_gpu', 'model', 'get_mask_id', \"get_predicted\", \"cmp_sequences\"])\n",
        "sequence_length = []\n",
        "ctr = 0\n",
        "\n",
        "for id, fasta_row in fasta_df.iterrows():\n",
        "    # comment this out for optimal speed\n",
        "    ctr += 1\n",
        "    if ctr % 100 == 0:\n",
        "        percentage = \"{:.4f}\".format(ctr / fasta_df.shape[0])\n",
        "        print(f\"Processing... {percentage}\")\n",
        "        # try to remove anything no longer needed on the GPU mem\n",
        "        gc.collect()\n",
        "    \n",
        "    sequence_length.append(len(fasta_row[\"Sequence\"]))\n",
        "    latency_time_stamps = []\n",
        "    \n",
        "    # try to save as much memory as possible by reducing fragmentation\n",
        "    torch.cuda.empty_cache()\n",
        "    \n",
        "    # load model to GPU\n",
        "    model.to(device)\n",
        "\n",
        "    # TIME LOG: start\n",
        "    latency_time_stamps.append(perf_counter_ns())\n",
        "\n",
        "    # Tokenize the input and move it to the correct device\n",
        "    inputs = tokenizer(fasta_row[\"Masked_Sequence\"], max_length=min(len(fasta_row[\"Masked_Sequence\"]), SEQ_MAX_LEN), truncation=True, return_tensors='pt')\n",
        "    \n",
        "    # TIME LOG: tokenize\n",
        "    latency_time_stamps.append(perf_counter_ns())\n",
        "    \n",
        "    inputs = {k: v.to(device) for k, v in inputs.items()}\n",
        "    \n",
        "    # TIME LOG: move_to_gpu\n",
        "    latency_time_stamps.append(perf_counter_ns())\n",
        "    \n",
        "    with torch.no_grad():\n",
        "        logits = model(**inputs).logits\n",
        "    \n",
        "    # TIME LOG: model\n",
        "    latency_time_stamps.append(perf_counter_ns())\n",
        "\n",
        "    # Retrieve index of <mask>\n",
        "    mask_token_index = (inputs[\"input_ids\"] == tokenizer.mask_token_id)[0].nonzero(as_tuple=True)[0]\n",
        "    predicted_token_id = logits[0, mask_token_index].argmax(axis=-1).item()\n",
        "    \n",
        "    # TIME LOG: get_mask_id\n",
        "    latency_time_stamps.append(perf_counter_ns())\n",
        "    \n",
        "    predicted_token = tokenizer.decode([predicted_token_id], skip_special_tokens=True)\n",
        "    \n",
        "    # TIME LOG: get_predicted\n",
        "    latency_time_stamps.append(perf_counter_ns())\n",
        "    \n",
        "    unmasked_text = fasta_row['Sequence']\n",
        "    masked_text = fasta_row[\"Masked_Sequence\"]\n",
        "    mask_position = masked_text.find('<mask>')\n",
        "    actual_token = unmasked_text[mask_position]\n",
        "    \n",
        "    # TIME LOG: cmp_sequences\n",
        "    latency_time_stamps.append(perf_counter_ns())\n",
        "\n",
        "    if predicted_token == actual_token:\n",
        "        accuracy.append(1)\n",
        "    else:\n",
        "        accuracy.append(0)\n",
        "        \n",
        "    latency.loc[len(latency.index)] = latency_time_stamps"
      ]
    },
    {
      "cell_type": "markdown",
      "id": "31e4cc47",
      "metadata": {},
      "source": [
        "## Accuracy Log"
      ]
    },
    {
      "cell_type": "code",
      "execution_count": null,
      "id": "ba9a1d7e",
      "metadata": {},
      "outputs": [],
      "source": [
        "print(\"Correctly Predicted: \" + str(sum(accuracy)))\n",
        "print(\"Total Runs: \" + str(len(accuracy)))\n",
        "print(\"Accuracy: \" +  str(sum(accuracy)/len(accuracy)))"
      ]
    },
    {
      "cell_type": "markdown",
      "id": "277350aa",
      "metadata": {},
      "source": [
        "## Latency/Time Log"
      ]
    },
    {
      "cell_type": "code",
      "execution_count": null,
      "id": "9e828976",
      "metadata": {},
      "outputs": [],
      "source": [
        "# drop headers\n",
        "latency_diff = latency.diff().dropna()\n",
        "\n",
        "latency_diff.plot(kind='bar', figsize=(10, 6))\n",
        "plt.title('Time Stamps')\n",
        "plt.xlabel('Columns')\n",
        "plt.ylabel('Time Stamps')\n",
        "plt.show()"
      ]
    },
    {
      "cell_type": "code",
      "execution_count": null,
      "id": "51a95a44",
      "metadata": {},
      "outputs": [],
      "source": [
        "# Calculate total latency\n",
        "total_latency = latency['cmp_sequences'] - latency['start']\n",
        "\n",
        "# Merge the total latency with sequence_length DataFrame\n",
        "lat_len_df = pd.DataFrame({ \"Latency\": total_latency, \"Sequence_Length\": sequence_length})\n",
        "\n",
        "# Plotting sequence length vs total latency\n",
        "lat_len_df.plot(x='sequence_length', y='total_latency', kind='scatter', figsize=(10, 6))\n",
        "plt.title('Latency Graph of Sequence Length vs Total Latency')\n",
        "plt.xlabel('Sequence Length')\n",
        "plt.ylabel('Total Latency')\n",
        "plt.show()"
      ]
    }
  ],
  "metadata": {
    "colab": {
      "provenance": []
    },
    "kernelspec": {
      "display_name": "Python 3 (ipykernel)",
      "language": "python",
      "name": "python3"
    },
    "language_info": {
      "codemirror_mode": {
        "name": "ipython",
        "version": 3
      },
      "file_extension": ".py",
      "mimetype": "text/x-python",
      "name": "python",
      "nbconvert_exporter": "python",
      "pygments_lexer": "ipython3",
      "version": "3.12.1"
    }
  },
  "nbformat": 4,
  "nbformat_minor": 5
}
