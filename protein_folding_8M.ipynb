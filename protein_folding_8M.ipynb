{
  "cells": [
    {
      "cell_type": "markdown",
      "id": "949f360e",
      "metadata": {
        "id": "949f360e"
      },
      "source": [
        "## Protein Folding with ESMFold and 🤗`transformers`"
      ]
    },
    {
      "cell_type": "markdown",
      "id": "ab50e270",
      "metadata": {
        "id": "ab50e270"
      },
      "source": [
        "ESMFold ([paper link](https://www.biorxiv.org/content/10.1101/2022.07.20.500902v2)) is a recently released protein folding model from FAIR. Unlike other protein folding models, it does not require external databases or search tools to predict structures, and is up to 60X faster as a result.\n",
        "\n",
        "The port to the HuggingFace `transformers` library is even easier to use, as we've removed the dependency on tools like `openfold` - once you `pip install transformers`, you're ready to use this model!\n",
        "\n",
        "Note that all the code that follows will be running the model **locally**, rather than calling an external API. This means that no rate limiting applies here - you can predict as many structures as your computer can handle.\n",
        "\n",
        "In testing, we found that ESMFold needs about 16-24GB of GPU memory to run well, depending on protein length. This may be too much for the smaller free GPUs on Colab."
      ]
    },
    {
      "cell_type": "markdown",
      "id": "a2f53405",
      "metadata": {
        "id": "a2f53405"
      },
      "source": [
        "First step, make sure you're up to date - you'll need the most recent release of `transformers` and `accelerate`! If you want to visualize your predicted protein structure in the notebook, you should also install py3Dmol."
      ]
    },
    {
      "cell_type": "code",
      "execution_count": null,
      "id": "eb29483f",
      "metadata": {
        "id": "eb29483f",
        "scrolled": false
      },
      "outputs": [],
      "source": [
        "! pip install --upgrade transformers py3Dmol accelerate"
      ]
    },
    {
      "cell_type": "markdown",
      "id": "1dca9819",
      "metadata": {
        "id": "1dca9819"
      },
      "source": [
        "## Preparing your model and tokenizer"
      ]
    },
    {
      "cell_type": "markdown",
      "id": "c418e286",
      "metadata": {
        "id": "c418e286"
      },
      "source": [
        "Now we load our model and tokenizer. If using GPU, use `model.cuda()` to transfer the model to GPU."
      ]
    },
    {
      "cell_type": "code",
      "execution_count": 7,
      "id": "c200c170",
      "metadata": {
        "id": "c200c170"
      },
      "outputs": [
        {
          "name": "stderr",
          "output_type": "stream",
          "text": [
            "Some weights of EsmModel were not initialized from the model checkpoint at facebook/esm2_t6_8M_UR50D and are newly initialized: ['esm.pooler.dense.bias', 'esm.pooler.dense.weight']\n",
            "You should probably TRAIN this model on a down-stream task to be able to use it for predictions and inference.\n"
          ]
        }
      ],
      "source": [
        "from transformers import AutoTokenizer, EsmModel\n",
        "\n",
        "tokenizer = AutoTokenizer.from_pretrained(\"facebook/esm2_t6_8M_UR50D\")\n",
        "model = EsmModel.from_pretrained(\"facebook/esm2_t6_8M_UR50D\")\n",
        "\n",
        "model = model.cuda()"
      ]
    },
    {
      "cell_type": "code",
      "execution_count": 9,
      "id": "2de87241",
      "metadata": {},
      "outputs": [],
      "source": [
        "# Tokenize the input\n",
        "input_text = \"MQIFVKTLTGKTITLEVEPSTIENVKAKIQDKEGIPPDQQRLIFAGKQLEDGRTLSDYNIQKESTLHLVLRLRGG\"\n",
        "\n",
        "inputs = tokenizer(input_text, return_tensors=\"pt\")\n",
        "\n",
        "inputs.to(\"cuda\")\n",
        "\n",
        "# Perform masked language modeling\n",
        "outputs = model(**inputs)"
      ]
    },
    {
      "cell_type": "code",
      "execution_count": 10,
      "id": "56eb5828",
      "metadata": {},
      "outputs": [
        {
          "name": "stdout",
          "output_type": "stream",
          "text": [
            "BaseModelOutputWithPoolingAndCrossAttentions(last_hidden_state=tensor([[[ 0.1540,  0.9968, -0.1972,  ...,  1.0860, -0.2481, -0.5421],\n",
            "         [-0.1042,  0.7568, -0.3113,  ...,  0.6117, -0.3466,  0.0726],\n",
            "         [ 0.0891,  0.1685,  0.0212,  ...,  0.1380,  0.1749,  0.0923],\n",
            "         ...,\n",
            "         [ 0.8889, -0.0980, -0.1713,  ...,  0.2475,  0.3392,  0.0412],\n",
            "         [ 0.3058, -0.4921,  0.1836,  ..., -0.2914,  0.4256, -0.8558],\n",
            "         [ 0.1222,  0.5512,  0.1395,  ...,  0.1755, -0.1414, -0.3930]]],\n",
            "       device='cuda:0', grad_fn=<NativeLayerNormBackward0>), pooler_output=tensor([[-0.0680,  0.0353,  0.0907, -0.0457, -0.0716,  0.0629,  0.2827, -0.1470,\n",
            "         -0.1703,  0.0220, -0.0861, -0.0720, -0.0783,  0.2750,  0.0445, -0.0493,\n",
            "          0.3007, -0.1576, -0.0098, -0.2230, -0.1474,  0.1469,  0.1738,  0.0204,\n",
            "         -0.0620, -0.1529,  0.2485,  0.0916,  0.2377,  0.0463, -0.0169, -0.1055,\n",
            "          0.0021, -0.1921, -0.2365, -0.1055,  0.0509, -0.1400,  0.0310, -0.1725,\n",
            "         -0.1135, -0.0989,  0.0491, -0.1039,  0.0773, -0.0130, -0.2266, -0.0872,\n",
            "          0.0682, -0.2245,  0.0338, -0.0557, -0.0561,  0.1764,  0.1280,  0.0503,\n",
            "          0.0756, -0.2896, -0.3970,  0.0416, -0.1217,  0.1830, -0.0525, -0.0732,\n",
            "         -0.0531, -0.1467, -0.1605,  0.1272, -0.0069, -0.1518, -0.0789,  0.0890,\n",
            "         -0.0484, -0.1918,  0.4397,  0.0159, -0.1239, -0.1650,  0.1222,  0.0546,\n",
            "          0.0824,  0.0546, -0.0570,  0.0737, -0.0795,  0.2460, -0.3061,  0.1011,\n",
            "         -0.1308, -0.1666,  0.3652,  0.0672, -0.0735, -0.2877, -0.2716, -0.1213,\n",
            "          0.0723, -0.0598,  0.0963, -0.2105, -0.0838,  0.0822,  0.1745,  0.2301,\n",
            "         -0.1678,  0.0699,  0.3120,  0.1914,  0.1035, -0.0693, -0.0926,  0.0775,\n",
            "         -0.2572, -0.0663, -0.1212,  0.1730,  0.3043,  0.1332, -0.1785,  0.2990,\n",
            "          0.0150, -0.0242,  0.3536, -0.0715, -0.1307,  0.1857, -0.1654, -0.0519,\n",
            "          0.0559,  0.0166, -0.0097,  0.0056,  0.2127,  0.0514, -0.1985,  0.2383,\n",
            "         -0.1943, -0.0045, -0.1561,  0.2679, -0.1109,  0.3029,  0.2329, -0.0577,\n",
            "          0.2474,  0.4657, -0.2583,  0.1206,  0.0391,  0.2297, -0.0878,  0.0406,\n",
            "         -0.0866, -0.3676, -0.1210, -0.0773,  0.0947, -0.0302,  0.2377, -0.0019,\n",
            "         -0.0648,  0.2113, -0.0283,  0.0843,  0.0470, -0.2595,  0.1860, -0.0671,\n",
            "         -0.0617,  0.0535,  0.0026, -0.2777, -0.0190, -0.1817, -0.0802,  0.1093,\n",
            "         -0.0033,  0.3143,  0.1059, -0.0547,  0.2698, -0.0310, -0.0240,  0.0433,\n",
            "          0.3078, -0.0199,  0.0184,  0.1098, -0.2721, -0.0620, -0.0479,  0.4013,\n",
            "          0.1660,  0.1118, -0.0254, -0.0397,  0.0989, -0.0150, -0.1609,  0.1180,\n",
            "          0.1398,  0.0474,  0.2081, -0.2055,  0.2270, -0.3154, -0.0358,  0.1925,\n",
            "         -0.2949,  0.0345,  0.1685,  0.1955, -0.0351,  0.0243,  0.2123, -0.0276,\n",
            "         -0.0646,  0.1581,  0.1816, -0.0955, -0.1315,  0.0804, -0.0050,  0.0565,\n",
            "         -0.0311,  0.1127,  0.3856, -0.1553, -0.0374,  0.0478, -0.1702,  0.1293,\n",
            "         -0.0692,  0.0794, -0.2587,  0.0658, -0.1785, -0.2885, -0.0884,  0.0596,\n",
            "          0.0327,  0.1815,  0.0951, -0.2332, -0.1240,  0.2537,  0.1274,  0.3100,\n",
            "          0.2481, -0.1136, -0.1834,  0.0058,  0.0582, -0.0229,  0.2864, -0.2658,\n",
            "          0.1064,  0.0362, -0.1625,  0.1123,  0.3078,  0.0227,  0.2016,  0.0982,\n",
            "          0.1396,  0.2861, -0.0852,  0.3060,  0.0778,  0.2021,  0.1866,  0.1744,\n",
            "          0.0384, -0.0899, -0.3140,  0.0113, -0.2297, -0.0215,  0.1752,  0.0727,\n",
            "          0.0574, -0.0365, -0.0322,  0.0991, -0.0120,  0.2791,  0.1577,  0.1462,\n",
            "         -0.2104, -0.1121,  0.0087,  0.0537,  0.0319,  0.1389,  0.0311, -0.0489,\n",
            "         -0.2050, -0.3343,  0.0909, -0.3024, -0.1700, -0.0461, -0.4340, -0.2070,\n",
            "          0.1008,  0.0458, -0.2105, -0.1504,  0.1626,  0.2044,  0.3440,  0.0333,\n",
            "         -0.1498, -0.0926,  0.0272, -0.1615,  0.0506,  0.1266,  0.0421, -0.0708]],\n",
            "       device='cuda:0', grad_fn=<TanhBackward0>), hidden_states=None, past_key_values=None, attentions=None, cross_attentions=None)\n"
          ]
        }
      ],
      "source": [
        "print(outputs)"
      ]
    },
    {
      "cell_type": "markdown",
      "id": "a6f43d78",
      "metadata": {
        "id": "a6f43d78"
      },
      "source": [
        "## Performance optimizations"
      ]
    },
    {
      "cell_type": "markdown",
      "id": "cc0f0186",
      "metadata": {
        "id": "cc0f0186"
      },
      "source": [
        "Since ESMFold is quite a large model, there are some considerations regarding memory usage and performance.\n",
        "\n",
        "Firstly, we can optionally convert the language model stem to float16 to improve performance and memory usage when running on a modern GPU. This was used during model training, and so should not make the outputs from the rest of the model invalid."
      ]
    },
    {
      "cell_type": "code",
      "execution_count": null,
      "id": "90ee986d",
      "metadata": {
        "id": "90ee986d"
      },
      "outputs": [],
      "source": [
        "# Uncomment to switch the stem to float16\n",
        "model.esm = model.esm.half()"
      ]
    },
    {
      "cell_type": "markdown",
      "id": "7c647c77",
      "metadata": {
        "id": "7c647c77"
      },
      "source": [
        "Secondly, you can enable TensorFloat32 computation for a general speedup if your hardware supports it. This line has no effect if your hardware doesn't support it."
      ]
    },
    {
      "cell_type": "code",
      "execution_count": null,
      "id": "c2bd9e11",
      "metadata": {
        "id": "c2bd9e11"
      },
      "outputs": [],
      "source": [
        "import torch\n",
        "\n",
        "torch.backends.cuda.matmul.allow_tf32 = True"
      ]
    },
    {
      "cell_type": "markdown",
      "id": "a8eefe1b",
      "metadata": {
        "id": "a8eefe1b"
      },
      "source": [
        "Finally, we can reduce the 'chunk_size' used in the folding trunk. Smaller chunk sizes use less memory, but have slightly worse performance."
      ]
    },
    {
      "cell_type": "code",
      "execution_count": null,
      "id": "6f8ba985",
      "metadata": {
        "id": "6f8ba985"
      },
      "outputs": [],
      "source": [
        "# Uncomment this line if your GPU memory is 16GB or less, or if you're folding longer (over 600 or so) sequences\n",
        "model.trunk.set_chunk_size(64)"
      ]
    },
    {
      "cell_type": "markdown",
      "id": "c9a26e91",
      "metadata": {
        "id": "c9a26e91"
      },
      "source": [
        "## Folding a single chain"
      ]
    },
    {
      "cell_type": "markdown",
      "id": "8752706a",
      "metadata": {
        "id": "8752706a"
      },
      "source": [
        "First, we tokenize our input. If you've used `transformers` before, proteins are processed like any other input string. Make sure **not** to add special tokens - ESM was trained with them, but ESMFold was trained without them."
      ]
    },
    {
      "cell_type": "code",
      "execution_count": null,
      "id": "dde34627",
      "metadata": {
        "id": "dde34627"
      },
      "outputs": [],
      "source": [
        "# This is the sequence for human GNAT1, because I worked on it when\n",
        "# I was a postdoc and so everyone else has to learn to appreciate it too.\n",
        "# Feel free to substitute your own peptides of interest\n",
        "# Depending on memory constraints you may wish to use shorter sequences.\n",
        "test_protein = \"MGAGASAEEKHSRELEKKLKEDAEKDARTVKLLLLGAGESGKSTIVKQMKIIHQDGYSLEECLEFIAIIYGNTLQSILAIVRAMTTLNIQYGDSARQDDARKLMHMADTIEEGTMPKEMSDIIQRLWKDSGIQACFERASEYQLNDSAGYYLSDLERLVTPGYVPTEQDVLRSRVKTTGIIETQFSFKDLNFRMFDVGGQRSERKKWIHCFEGVTCIIFIAALSAYDMVLVEDDEVNRMHESLHLFNSICNHRYFATTSIVLFLNKKDVFFEKIKKAHLSICFPDYDGPNTYEDAGNYIKVQFLELNMRRDVKEIYSHMTCATDTQNVKFVFDAVTDIIIKENLKDCGLF\"\n",
        "\n",
        "tokenized_input = tokenizer([test_protein], return_tensors=\"pt\", add_special_tokens=False)['input_ids']\n"
      ]
    },
    {
      "cell_type": "markdown",
      "id": "18c00d09",
      "metadata": {
        "id": "18c00d09"
      },
      "source": [
        "If you're using a GPU, you'll need to move the tokenized data to the GPU now."
      ]
    },
    {
      "cell_type": "code",
      "execution_count": null,
      "id": "e0520279",
      "metadata": {
        "id": "e0520279"
      },
      "outputs": [],
      "source": [
        "tokenized_input = tokenized_input.cuda()"
      ]
    },
    {
      "cell_type": "markdown",
      "id": "89029c8b",
      "metadata": {
        "id": "89029c8b"
      },
      "source": [
        "With our preparations out of the way, getting your model outputs is as simple as..."
      ]
    },
    {
      "cell_type": "code",
      "execution_count": null,
      "id": "707fad0d",
      "metadata": {
        "id": "707fad0d",
        "scrolled": true
      },
      "outputs": [],
      "source": [
        "import torch\n",
        "\n",
        "with torch.no_grad():\n",
        "    output = model(tokenized_input)"
      ]
    },
    {
      "cell_type": "markdown",
      "id": "b34de2f6",
      "metadata": {
        "id": "b34de2f6"
      },
      "source": [
        "Now here's the tricky bit - we convert the model outputs to a PDB file. This will likely be moved to a function in `transformers` in the future, but everything's still quite new, so it lives here for now! This code comes from the original ESMFold repo, and uses some functions from `openfold` that have been ported to `transformers`."
      ]
    },
    {
      "cell_type": "code",
      "execution_count": null,
      "id": "1c9de19e",
      "metadata": {
        "id": "1c9de19e"
      },
      "outputs": [],
      "source": [
        "from transformers.models.esm.openfold_utils.protein import to_pdb, Protein as OFProtein\n",
        "from transformers.models.esm.openfold_utils.feats import atom14_to_atom37\n",
        "\n",
        "def convert_outputs_to_pdb(outputs):\n",
        "    final_atom_positions = atom14_to_atom37(outputs[\"positions\"][-1], outputs)\n",
        "    outputs = {k: v.to(\"cpu\").numpy() for k, v in outputs.items()}\n",
        "    final_atom_positions = final_atom_positions.cpu().numpy()\n",
        "    final_atom_mask = outputs[\"atom37_atom_exists\"]\n",
        "    pdbs = []\n",
        "    for i in range(outputs[\"aatype\"].shape[0]):\n",
        "        aa = outputs[\"aatype\"][i]\n",
        "        pred_pos = final_atom_positions[i]\n",
        "        mask = final_atom_mask[i]\n",
        "        resid = outputs[\"residue_index\"][i] + 1\n",
        "        pred = OFProtein(\n",
        "            aatype=aa,\n",
        "            atom_positions=pred_pos,\n",
        "            atom_mask=mask,\n",
        "            residue_index=resid,\n",
        "            b_factors=outputs[\"plddt\"][i],\n",
        "            chain_index=outputs[\"chain_index\"][i] if \"chain_index\" in outputs else None,\n",
        "        )\n",
        "        pdbs.append(to_pdb(pred))\n",
        "    return pdbs"
      ]
    },
    {
      "cell_type": "code",
      "execution_count": null,
      "id": "24613dbb",
      "metadata": {
        "id": "24613dbb"
      },
      "outputs": [],
      "source": [
        "pdb = convert_outputs_to_pdb(output)"
      ]
    },
    {
      "cell_type": "markdown",
      "id": "f23adc4e",
      "metadata": {
        "id": "f23adc4e"
      },
      "source": [
        "Now we have our pdb - can we visualize it?"
      ]
    },
    {
      "cell_type": "code",
      "execution_count": null,
      "id": "e094b965",
      "metadata": {
        "id": "e094b965",
        "outputId": "867e9309-6f2b-4740-b3e8-f80ef45dd953",
        "scrolled": true
      },
      "outputs": [],
      "source": [
        "import py3Dmol\n",
        "\n",
        "view = py3Dmol.view(js='https://3dmol.org/build/3Dmol.js', width=800, height=400)\n",
        "view.addModel(\"\".join(pdb), 'pdb')\n",
        "view.setStyle({'model': -1}, {\"cartoon\": {'color': 'spectrum'}})"
      ]
    },
    {
      "cell_type": "markdown",
      "id": "04b1f814",
      "metadata": {
        "id": "04b1f814"
      },
      "source": [
        "Looks good! We can colour it differently, though - our model outputs a `plddt` field containing probabilities for each atom, indicating how confident it is in that part of the structure. In the conversion function above we added the `plddt` field in the `b_factors` argument, so it was included in our `pdb` string. Let's use it so that we can see high- and low-confidence areas of the structure visually!"
      ]
    },
    {
      "cell_type": "code",
      "execution_count": null,
      "id": "7add289c",
      "metadata": {
        "id": "7add289c",
        "outputId": "b672db4c-00d2-442e-c51d-5e51b835a9ad"
      },
      "outputs": [],
      "source": [
        "# The plddt field is scaled from 0-1 on earlier versions of ESMFold but will be updated\n",
        "# to match AlphaFold's scale of 0-100 in future versions.\n",
        "# We check here so that this code will work on either:\n",
        "\n",
        "if torch.max(output['plddt']) <= 1.0:\n",
        "    vmin = 0.5\n",
        "    vmax = 0.95\n",
        "else:\n",
        "    vmin = 50\n",
        "    vmax = 95\n",
        "\n",
        "view.setStyle({'cartoon': {'colorscheme': {'prop':'b','gradient': 'roygb','min': vmin,'max': vmax}}})"
      ]
    },
    {
      "cell_type": "markdown",
      "id": "b5546395",
      "metadata": {
        "id": "b5546395"
      },
      "source": [
        "Blue indicates high confidence, so that's a pretty high-quality prediction! Not too surprising considering GNAT1 was almost certainly in the training data, but nevertheless good to see. Finally, we can write our PDB string out to a file, which you can download and use in other tools."
      ]
    },
    {
      "cell_type": "code",
      "execution_count": null,
      "id": "f7867e6c",
      "metadata": {
        "id": "f7867e6c"
      },
      "outputs": [],
      "source": [
        "with open(\"output_structure.pdb\", \"w\") as f:\n",
        "    f.write(\"\".join(pdb))"
      ]
    },
    {
      "cell_type": "markdown",
      "id": "cd9cdbee",
      "metadata": {
        "id": "cd9cdbee"
      },
      "source": [
        "If you're running this in Colab (and haven't run out of memory by now!) then you can download the file we just created using the file browser interface at the left - the button looks like a little folder icon."
      ]
    },
    {
      "cell_type": "markdown",
      "id": "ad5c537a",
      "metadata": {
        "id": "ad5c537a"
      },
      "source": [
        "## Folding multiple chains"
      ]
    },
    {
      "cell_type": "markdown",
      "id": "1cad2c0a",
      "metadata": {
        "id": "1cad2c0a"
      },
      "source": [
        "Many proteins exist as complexes, either as multiple copies of the same peptide (a homopolymer), or a complex of different ones (a heteropolymer). To generate folds for such structures in ESMFold, we use a trick from the paper - we insert a \"linker\" of flexible glycine residues between each chain we want to fold simultaneously, and then we offset the position IDs for each chain from each other, so that the model treats them as being very distant portions of the same long chain. This works quite well, so let's see it in action! We'll use Glucosamine-6-phosphate deaminase (Uniprot: Q9CMF4) from the paper as an example."
      ]
    },
    {
      "cell_type": "markdown",
      "id": "74f335dc",
      "metadata": {
        "id": "74f335dc"
      },
      "source": [
        "First, we define the sequence of the monomer, and the poly-G linker we want to use. Then we stick two copies of the monomer together with the linker in between."
      ]
    },
    {
      "cell_type": "code",
      "execution_count": null,
      "id": "ab826ff8",
      "metadata": {
        "id": "ab826ff8"
      },
      "outputs": [],
      "source": [
        "sequence = \"MRLIPLHNVDQVAKWSARYIVDRINQFQPTEARPFVLGLPTGGTPLKTYEALIELYKAGEVSFKHVVTFNMDEYVGLPKEHPESYHSFMYKNFFDHVDIQEKNINILNGNTEDHDAECQRYEEKIKSYGKIHLFMGGVGVDGHIAFNEPASSLSSRTRIKTLTEDTLIANSRFFDNDVNKVPKYALTIGVGTLLDAEEVMILVTGYNKAQALQAAVEGSINHLWTVTALQMHRRAIIVCDEPATQELKVKTVKYFTELEASAIRSVK\"\n",
        "\n",
        "linker = 'G' * 25\n",
        "\n",
        "homodimer_sequence = sequence + linker + sequence"
      ]
    },
    {
      "cell_type": "markdown",
      "id": "b7abd3f5",
      "metadata": {
        "id": "b7abd3f5"
      },
      "source": [
        "Now we tokenize the full homodimer sequence just like we did with the monomer sequence above."
      ]
    },
    {
      "cell_type": "code",
      "execution_count": null,
      "id": "1dd0534c",
      "metadata": {
        "id": "1dd0534c"
      },
      "outputs": [],
      "source": [
        "tokenized_homodimer = tokenizer([homodimer_sequence], return_tensors=\"pt\", add_special_tokens=False)"
      ]
    },
    {
      "cell_type": "markdown",
      "id": "a9b66b67",
      "metadata": {
        "id": "a9b66b67"
      },
      "source": [
        "Now here's the tricky bit - we need to tweak the inputs a bit so the model doesn't think this is just a single peptide. The way we do that is by using the `position_ids` input to the model. The `position_ids` input tells the model the position of each amino acid in the input chain. By default, the model assumes that you've passed it one linear, contiguous chain - in other words, if you give it a peptide with 100 amino acids, it will assume the `position_ids` are just `[0, 1, ..., 98, 99]` unless you tell it otherwise.\n",
        "\n",
        "We want to make very clear that the two subunits aren't connected, though, so let's add a large offset to the position IDs of the second chain. The original repo uses 512, so let's stick with that."
      ]
    },
    {
      "cell_type": "code",
      "execution_count": null,
      "id": "c3851d39",
      "metadata": {
        "id": "c3851d39",
        "outputId": "5d1e6566-fbab-455d-df39-c1e8906b7cd8"
      },
      "outputs": [],
      "source": [
        "with torch.no_grad():\n",
        "    position_ids = torch.arange(len(homodimer_sequence), dtype=torch.long)\n",
        "    position_ids[len(sequence) + len(linker):] += 512\n",
        "print(position_ids)"
      ]
    },
    {
      "cell_type": "markdown",
      "id": "9baf48ce",
      "metadata": {
        "id": "9baf48ce"
      },
      "source": [
        "Now we're ready to predict! Let's add our `position_ids` to the tokenized inputs, but make sure to add a singleton batch dimension first to match the other arrays in there! Once that's done we can transfer that dict to the GPU and we're ready to get our folded structure."
      ]
    },
    {
      "cell_type": "code",
      "execution_count": null,
      "id": "159ee4b2",
      "metadata": {
        "id": "159ee4b2"
      },
      "outputs": [],
      "source": [
        "tokenized_homodimer['position_ids'] = position_ids.unsqueeze(0)\n",
        "\n",
        "tokenized_homodimer = {key: tensor.cuda() for key, tensor in tokenized_homodimer.items()}"
      ]
    },
    {
      "cell_type": "markdown",
      "id": "a1f14e1e",
      "metadata": {
        "id": "a1f14e1e"
      },
      "source": [
        "Now we compute predictions just like before."
      ]
    },
    {
      "cell_type": "code",
      "execution_count": null,
      "id": "c956feca",
      "metadata": {
        "id": "c956feca"
      },
      "outputs": [],
      "source": [
        "with torch.no_grad():\n",
        "    output = model(**tokenized_homodimer)"
      ]
    },
    {
      "cell_type": "markdown",
      "id": "3cb716c8",
      "metadata": {
        "id": "3cb716c8"
      },
      "source": [
        "Next, we need to remove the poly-G linker from the output, so we can display the structure as fully independent chains. To do that, we'll alter the `atom37_atom_exists` field in the output. This field indicates, for display purposes, which atoms are present at each residue position. We will simply set all of the atoms for each of the linker residues to 0."
      ]
    },
    {
      "cell_type": "code",
      "execution_count": null,
      "id": "0fe7031b",
      "metadata": {
        "id": "0fe7031b"
      },
      "outputs": [],
      "source": [
        "linker_mask = torch.tensor([1] * len(sequence) + [0] * len(linker) + [1] * len(sequence))[None, :, None]\n",
        "\n",
        "output['atom37_atom_exists'] = output['atom37_atom_exists'] * linker_mask.to(output['atom37_atom_exists'].device)"
      ]
    },
    {
      "cell_type": "markdown",
      "id": "0162645f",
      "metadata": {
        "id": "0162645f"
      },
      "source": [
        "With those output tweaks done, now we can convert the output to PDB and view it as before."
      ]
    },
    {
      "cell_type": "code",
      "execution_count": null,
      "id": "93ac8f58",
      "metadata": {
        "id": "93ac8f58"
      },
      "outputs": [],
      "source": [
        "pdb = convert_outputs_to_pdb(output)"
      ]
    },
    {
      "cell_type": "code",
      "execution_count": null,
      "id": "9beab944",
      "metadata": {
        "id": "9beab944",
        "outputId": "13c0b10a-47b9-4cd4-b50e-ef18838577b6"
      },
      "outputs": [],
      "source": [
        "view = py3Dmol.view(js='https://3dmol.org/build/3Dmol.js', width=800, height=400)\n",
        "view.addModel(\"\".join(pdb), 'pdb')\n",
        "\n",
        "# The plddt field is scaled from 0-1 on earlier versions of ESMFold but will be updated\n",
        "# to match AlphaFold's scale of 0-100 in future versions.\n",
        "# We check here so that this code will work on either:\n",
        "\n",
        "if torch.max(output['plddt']) <= 1.0:\n",
        "    vmin = 0.5\n",
        "    vmax = 0.95\n",
        "else:\n",
        "    vmin = 50\n",
        "    vmax = 95\n",
        "\n",
        "view.setStyle({'cartoon': {'colorscheme': {'prop':'b','gradient': 'roygb','min': vmin,'max': vmax}}})"
      ]
    },
    {
      "cell_type": "markdown",
      "id": "800e8322",
      "metadata": {
        "id": "800e8322"
      },
      "source": [
        "And there's our dimer structure! As in the first example, we can now write this structure out to a PDB file and use it in downstream tools:"
      ]
    },
    {
      "cell_type": "code",
      "execution_count": null,
      "id": "b3ef7389",
      "metadata": {
        "id": "b3ef7389"
      },
      "outputs": [],
      "source": [
        "with open(\"output_structure.pdb\", \"w\") as f:\n",
        "    f.write(\"\".join(pdb))"
      ]
    },
    {
      "cell_type": "markdown",
      "id": "4245b6d9",
      "metadata": {
        "id": "4245b6d9"
      },
      "source": [
        "**Tip**: If you're trying to predict a multimeric structure and you're getting low-quality outputs, try varying the order of the chains (if it's a heteropolymer) or the length of the linker."
      ]
    },
    {
      "cell_type": "markdown",
      "id": "375ce618",
      "metadata": {
        "id": "375ce618"
      },
      "source": [
        "## Bulk predictions"
      ]
    },
    {
      "cell_type": "markdown",
      "id": "94795531",
      "metadata": {
        "id": "94795531"
      },
      "source": [
        "Predicting single structures is nice, but the great advantage of running ESMFold locally is the fact that it's extremely fast while still producing highly accurate predictions. This makes it very suitable for proteomics work. Let's see that in action here - we're going to grab a set of monomeric proteins in E. Coli from Uniprot and fold all of them with high accuracy on a single GPU in a couple of minutes (depending on your GPU!)\n",
        "\n",
        "We do this because we can, and to upset any crystallographer friends we may have. First, you may need to install `requests`, `tqdm` and `pandas` if you don't have them already, to handle the data we grab from Uniprot."
      ]
    },
    {
      "cell_type": "code",
      "execution_count": null,
      "id": "b1805096",
      "metadata": {
        "id": "b1805096"
      },
      "outputs": [],
      "source": [
        "# Uncomment and run this cell to install\n",
        "#! pip install requests pandas tqdm"
      ]
    },
    {
      "cell_type": "markdown",
      "id": "8bd0d5c3",
      "metadata": {
        "id": "8bd0d5c3"
      },
      "source": [
        "Next, let's prepare the URL for our Uniprot query."
      ]
    },
    {
      "cell_type": "code",
      "execution_count": null,
      "id": "f19dabb7",
      "metadata": {
        "id": "f19dabb7"
      },
      "outputs": [],
      "source": [
        "import requests\n",
        "\n",
        "uniprot_url = \"https://rest.uniprot.org/uniprotkb/stream?compressed=true&fields=accession%2Csequence&format=tsv&query=%28%28taxonomy_id%3A83333%29%20AND%20%28reviewed%3Atrue%29%20AND%20%28length%3A%5B128%20TO%20512%5D%29%20AND%20%28cc_subunit%3Amonomer%29%29\""
      ]
    },
    {
      "cell_type": "markdown",
      "id": "59d0f3f9",
      "metadata": {
        "id": "59d0f3f9"
      },
      "source": [
        "This uniprot URL might seem mysterious, but it isn't! To get it, we searched for `(taxonomy_id:83333) AND (reviewed:true) AND (length:[128 TO 512]) AND (cc_subunit:monomer)` on UniProt to get all monomeric E.coli proteins of reasonable length, then selected 'Download', and set the format to TSV and the columns to `Sequence`.\n",
        "\n",
        "Once that's done, selecting `Generate URL for API` gives you a URL you can pass to Requests. Alternatively, if you're not on Colab you can just download the data through the web interface and open the file locally."
      ]
    },
    {
      "cell_type": "code",
      "execution_count": null,
      "id": "b8fbedb4",
      "metadata": {
        "id": "b8fbedb4"
      },
      "outputs": [],
      "source": [
        "uniprot_request = requests.get(uniprot_url)"
      ]
    },
    {
      "cell_type": "markdown",
      "id": "e2cbdce6",
      "metadata": {
        "id": "e2cbdce6"
      },
      "source": [
        "To get this data into Pandas, we use a `BytesIO` object, which Pandas will treat like a file. If you downloaded the data as a file you can skip this bit and just pass the filepath directly to `read_csv`."
      ]
    },
    {
      "cell_type": "code",
      "execution_count": null,
      "id": "c7da0934",
      "metadata": {
        "id": "c7da0934",
        "outputId": "4b841419-5497-4958-f010-e04140b0969e",
        "scrolled": true
      },
      "outputs": [],
      "source": [
        "from io import BytesIO\n",
        "import pandas\n",
        "\n",
        "bio = BytesIO(uniprot_request.content)\n",
        "\n",
        "df = pandas.read_csv(bio, compression='gzip', sep='\\t')\n",
        "df = df.dropna()  # Remove empty columns, just in case\n",
        "df"
      ]
    },
    {
      "cell_type": "markdown",
      "id": "c9eec628",
      "metadata": {
        "id": "c9eec628"
      },
      "source": [
        "If you have time, you could process this entire list, giving you folded structures for the entire monomeric proteome of E. Coli. For the sake of this demo, though, let's limit ourselves to 10:"
      ]
    },
    {
      "cell_type": "code",
      "execution_count": null,
      "id": "334e1706",
      "metadata": {
        "id": "334e1706"
      },
      "outputs": [],
      "source": [
        "df = df.iloc[:10]"
      ]
    },
    {
      "cell_type": "markdown",
      "id": "d50a31ab",
      "metadata": {
        "id": "d50a31ab"
      },
      "source": [
        "Now let's pull out the sequences and batch-tokenize all of them."
      ]
    },
    {
      "cell_type": "code",
      "execution_count": null,
      "id": "8c4f3c91",
      "metadata": {
        "id": "8c4f3c91"
      },
      "outputs": [],
      "source": [
        "ecoli_tokenized = tokenizer(df.Sequence.tolist(), padding=False, add_special_tokens=False)['input_ids']"
      ]
    },
    {
      "cell_type": "markdown",
      "id": "bef2d74f",
      "metadata": {
        "id": "bef2d74f"
      },
      "source": [
        "Now we loop over our tokenized data, passing each sequence into our model:"
      ]
    },
    {
      "cell_type": "code",
      "execution_count": null,
      "id": "4e2eb7e4",
      "metadata": {
        "id": "4e2eb7e4",
        "outputId": "45c33cd3-a466-4111-da42-a0884f7b861a"
      },
      "outputs": [],
      "source": [
        "from tqdm import tqdm\n",
        "\n",
        "outputs = []\n",
        "\n",
        "with torch.no_grad():\n",
        "    for input_ids in tqdm(ecoli_tokenized):\n",
        "        input_ids = torch.tensor(input_ids, device='cuda').unsqueeze(0)\n",
        "        output = model(input_ids)\n",
        "        outputs.append({key: val.cpu() for key, val in output.items()})"
      ]
    },
    {
      "cell_type": "markdown",
      "id": "9bda2e50",
      "metadata": {
        "id": "9bda2e50"
      },
      "source": [
        "Now we have 10 model outputs, which we can convert to PDB in bulk. If you get an error here, make sure you've run the cell above that defines the convert_outputs_to_pdb function!"
      ]
    },
    {
      "cell_type": "code",
      "execution_count": null,
      "id": "005233a7",
      "metadata": {
        "id": "005233a7"
      },
      "outputs": [],
      "source": [
        "pdb_list = [convert_outputs_to_pdb(output) for output in outputs]"
      ]
    },
    {
      "cell_type": "markdown",
      "id": "d2da5185",
      "metadata": {
        "id": "d2da5185"
      },
      "source": [
        "Let's inspect one of them to see what we got."
      ]
    },
    {
      "cell_type": "code",
      "execution_count": null,
      "id": "1683a505",
      "metadata": {
        "id": "1683a505",
        "outputId": "53a8ad31-d88e-4d08-a6d8-01ef8e0c37f0"
      },
      "outputs": [],
      "source": [
        "import py3Dmol\n",
        "\n",
        "view = py3Dmol.view(js='https://3dmol.org/build/3Dmol.js', width=800, height=400)\n",
        "view.addModel(\"\".join(pdb_list[0]), 'pdb')\n",
        "\n",
        "# The plddt field is scaled from 0-1 on earlier versions of ESMFold but will be updated\n",
        "# to match AlphaFold's scale of 0-100 in future versions.\n",
        "# We check here so that this code will work on either:\n",
        "\n",
        "if torch.max(output['plddt']) <= 1.0:\n",
        "    vmin = 0.5\n",
        "    vmax = 0.95\n",
        "else:\n",
        "    vmin = 50\n",
        "    vmax = 95\n",
        "\n",
        "view.setStyle({'cartoon': {'colorscheme': {'prop':'b','gradient': 'roygb','min': vmin,'max': vmax}}})"
      ]
    },
    {
      "cell_type": "markdown",
      "id": "411cf51a",
      "metadata": {
        "id": "411cf51a"
      },
      "source": [
        "Looks good to me! Now we can save all of these to disc together."
      ]
    },
    {
      "cell_type": "code",
      "execution_count": null,
      "id": "07076a8c",
      "metadata": {
        "id": "07076a8c"
      },
      "outputs": [],
      "source": [
        "protein_identifiers = df.Entry.tolist()\n",
        "for identifier, pdb in zip(protein_identifiers, pdb_list):\n",
        "    with open(f\"{identifier}.pdb\", \"w\") as f:\n",
        "        f.write(\"\".join(pdb))"
      ]
    },
    {
      "cell_type": "markdown",
      "id": "e657713f",
      "metadata": {
        "id": "e657713f"
      },
      "source": [
        "If you're on Colab, you can download all of these to your local machine using the file interface on the left."
      ]
    }
  ],
  "metadata": {
    "colab": {
      "provenance": []
    },
    "kernelspec": {
      "display_name": "Python 3 (ipykernel)",
      "language": "python",
      "name": "python3"
    },
    "language_info": {
      "codemirror_mode": {
        "name": "ipython",
        "version": 3
      },
      "file_extension": ".py",
      "mimetype": "text/x-python",
      "name": "python",
      "nbconvert_exporter": "python",
      "pygments_lexer": "ipython3",
      "version": "3.12.1"
    }
  },
  "nbformat": 4,
  "nbformat_minor": 5
}
