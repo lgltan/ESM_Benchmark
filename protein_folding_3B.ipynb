{
  "cells": [
    {
      "cell_type": "code",
      "execution_count": 1,
      "id": "68ea93eb",
      "metadata": {},
      "outputs": [
        {
          "name": "stderr",
          "output_type": "stream",
          "text": [
            "c:\\Users\\lgltan\\AppData\\Local\\Programs\\Python\\Python312\\Lib\\site-packages\\tqdm\\auto.py:21: TqdmWarning: IProgress not found. Please update jupyter and ipywidgets. See https://ipywidgets.readthedocs.io/en/stable/user_install.html\n",
            "  from .autonotebook import tqdm as notebook_tqdm\n"
          ]
        }
      ],
      "source": [
        "import torch\n",
        "from transformers import AutoTokenizer, EsmForMaskedLM\n",
        "from transformers.models.esm.openfold_utils.protein import to_pdb, Protein as OFProtein\n",
        "from transformers.models.esm.openfold_utils.feats import atom14_to_atom37\n",
        "import torch.nn as nn\n",
        "from torch.utils.data import Dataset, DataLoader\n",
        "\n",
        "from pyJoules.device.nvidia_device import NvidiaGPUDomain\n",
        "from pyJoules.handler.pandas_handler import PandasHandler\n",
        "from pyJoules.energy_meter import measure_energy\n",
        "\n",
        "from Bio import SeqIO\n",
        "import pandas as pd\n",
        "import numpy as np\n",
        "from time import perf_counter_ns\n",
        "import matplotlib.pyplot as plt\n",
        "import gc\n",
        "\n",
        "SEQ_MAX_LEN = 8096"
      ]
    },
    {
      "cell_type": "markdown",
      "id": "c07db042",
      "metadata": {},
      "source": [
        "### CUDA/Torch GPU Setup"
      ]
    },
    {
      "cell_type": "code",
      "execution_count": 2,
      "id": "037cb538",
      "metadata": {},
      "outputs": [
        {
          "name": "stdout",
          "output_type": "stream",
          "text": [
            "Using GPU: NVIDIA GeForce RTX 4060 Ti\n"
          ]
        }
      ],
      "source": [
        "if torch.cuda.is_available():\n",
        "    device = torch.device(\"cuda\")\n",
        "    print(\"Using GPU:\", torch.cuda.get_device_name(0))\n",
        "else:\n",
        "    device = torch.device(\"cpu\")\n",
        "    print(\"Using CPU\")"
      ]
    },
    {
      "cell_type": "markdown",
      "id": "c056923a",
      "metadata": {},
      "source": [
        "## Convert FASTA file to pd.DataFrame for easier processing"
      ]
    },
    {
      "cell_type": "code",
      "execution_count": 3,
      "id": "af331da5",
      "metadata": {},
      "outputs": [],
      "source": [
        "def fasta_to_dataframe(fasta_file):\n",
        "    records = []\n",
        "    for seq_record in SeqIO.parse(fasta_file, 'fasta'):\n",
        "        if len(records) >= 8000:\n",
        "            break\n",
        "        # Extract the ID after '>tr'\n",
        "        id_info = seq_record.id.split('|')[1] # Adjust the index based on your FASTA file format\n",
        "        sequence = str(seq_record.seq)\n",
        "        if len(sequence) <= SEQ_MAX_LEN:\n",
        "            # Generate a random index within the range of the sequence length\n",
        "            random_index = np.random.randint(0, min(len(sequence), SEQ_MAX_LEN))\n",
        "            # Replace the character at the random index with '<mask>'\n",
        "            masked_sequence = sequence[:random_index] + '<mask>' + sequence[random_index+1:]\n",
        "            \n",
        "            records.append([id_info, sequence, masked_sequence])\n",
        "    \n",
        "    # Create a DataFrame from the records\n",
        "    df = pd.DataFrame(records, columns=['ID', 'Sequence', 'Masked_Sequence'])\n",
        "    return df"
      ]
    },
    {
      "cell_type": "markdown",
      "id": "4ff414cf",
      "metadata": {},
      "source": [
        "## Create Dataset"
      ]
    },
    {
      "cell_type": "code",
      "execution_count": 4,
      "id": "efe2e930",
      "metadata": {},
      "outputs": [],
      "source": [
        "fasta_df = fasta_to_dataframe(\"human_protein_seq/uniprotkb_proteome_UP000005640.fasta\")"
      ]
    },
    {
      "cell_type": "code",
      "execution_count": 5,
      "id": "c8ee6f32",
      "metadata": {},
      "outputs": [
        {
          "data": {
            "text/html": [
              "<div>\n",
              "<style scoped>\n",
              "    .dataframe tbody tr th:only-of-type {\n",
              "        vertical-align: middle;\n",
              "    }\n",
              "\n",
              "    .dataframe tbody tr th {\n",
              "        vertical-align: top;\n",
              "    }\n",
              "\n",
              "    .dataframe thead th {\n",
              "        text-align: right;\n",
              "    }\n",
              "</style>\n",
              "<table border=\"1\" class=\"dataframe\">\n",
              "  <thead>\n",
              "    <tr style=\"text-align: right;\">\n",
              "      <th></th>\n",
              "      <th>ID</th>\n",
              "      <th>Sequence</th>\n",
              "      <th>Masked_Sequence</th>\n",
              "    </tr>\n",
              "  </thead>\n",
              "  <tbody>\n",
              "    <tr>\n",
              "      <th>0</th>\n",
              "      <td>A0A075B6G3</td>\n",
              "      <td>MLWWEEVEDCYEREDVQKKTFTKWVNAQFSKFGKQHIENLFSDLQD...</td>\n",
              "      <td>MLWWEEVEDCYEREDVQKKTFTKWVNAQFSKFGKQHIENLFSDLQD...</td>\n",
              "    </tr>\n",
              "    <tr>\n",
              "      <th>1</th>\n",
              "      <td>A0A087WV00</td>\n",
              "      <td>MDAAGRGCHLLPLPAARGPARAPAAAAAAAASPPGPCSGAACAPSA...</td>\n",
              "      <td>MDAAGRGCHLLPLPAARGPARAPAAAAAAAASPPGPCSGAACAPSA...</td>\n",
              "    </tr>\n",
              "    <tr>\n",
              "      <th>2</th>\n",
              "      <td>A0A087WZT3</td>\n",
              "      <td>MELSAEYLREKLQRDLEAEHVLPSPGGVGQVRGETAASETQLGS</td>\n",
              "      <td>MEL&lt;mask&gt;AEYLREKLQRDLEAEHVLPSPGGVGQVRGETAASETQLGS</td>\n",
              "    </tr>\n",
              "    <tr>\n",
              "      <th>3</th>\n",
              "      <td>A0A087X1C5</td>\n",
              "      <td>MGLEALVPLAMIVAIFLLLVDLMHRHQRWAARYPPGPLPLPGLGNL...</td>\n",
              "      <td>MGLEALVPLAMIVAIFLLLVDLMHRHQRWAARYPPGPLPLPGLGNL...</td>\n",
              "    </tr>\n",
              "    <tr>\n",
              "      <th>4</th>\n",
              "      <td>A0A087X296</td>\n",
              "      <td>MSRSLLLWFLLFLLLLPPLPVLLADPGAPTPVNPCCYYPCQHQGIC...</td>\n",
              "      <td>MSRSLLLWFLLFLLLLPPLPVLLADPGAPTPVNPCCYYPCQHQGIC...</td>\n",
              "    </tr>\n",
              "  </tbody>\n",
              "</table>\n",
              "</div>"
            ],
            "text/plain": [
              "           ID                                           Sequence  \\\n",
              "0  A0A075B6G3  MLWWEEVEDCYEREDVQKKTFTKWVNAQFSKFGKQHIENLFSDLQD...   \n",
              "1  A0A087WV00  MDAAGRGCHLLPLPAARGPARAPAAAAAAAASPPGPCSGAACAPSA...   \n",
              "2  A0A087WZT3       MELSAEYLREKLQRDLEAEHVLPSPGGVGQVRGETAASETQLGS   \n",
              "3  A0A087X1C5  MGLEALVPLAMIVAIFLLLVDLMHRHQRWAARYPPGPLPLPGLGNL...   \n",
              "4  A0A087X296  MSRSLLLWFLLFLLLLPPLPVLLADPGAPTPVNPCCYYPCQHQGIC...   \n",
              "\n",
              "                                     Masked_Sequence  \n",
              "0  MLWWEEVEDCYEREDVQKKTFTKWVNAQFSKFGKQHIENLFSDLQD...  \n",
              "1  MDAAGRGCHLLPLPAARGPARAPAAAAAAAASPPGPCSGAACAPSA...  \n",
              "2  MEL<mask>AEYLREKLQRDLEAEHVLPSPGGVGQVRGETAASETQLGS  \n",
              "3  MGLEALVPLAMIVAIFLLLVDLMHRHQRWAARYPPGPLPLPGLGNL...  \n",
              "4  MSRSLLLWFLLFLLLLPPLPVLLADPGAPTPVNPCCYYPCQHQGIC...  "
            ]
          },
          "execution_count": 5,
          "metadata": {},
          "output_type": "execute_result"
        }
      ],
      "source": [
        "fasta_df.head()"
      ]
    },
    {
      "cell_type": "code",
      "execution_count": 6,
      "id": "931f1a97",
      "metadata": {},
      "outputs": [
        {
          "data": {
            "text/plain": [
              "(8000, 3)"
            ]
          },
          "execution_count": 6,
          "metadata": {},
          "output_type": "execute_result"
        }
      ],
      "source": [
        "fasta_df.shape"
      ]
    },
    {
      "cell_type": "markdown",
      "id": "1dca9819",
      "metadata": {
        "id": "1dca9819"
      },
      "source": [
        "## Preparing your model and tokenizer"
      ]
    },
    {
      "cell_type": "markdown",
      "id": "c418e286",
      "metadata": {
        "id": "c418e286"
      },
      "source": [
        "Now we load our model and tokenizer. If using GPU, use `model.cuda()` to transfer the model to GPU."
      ]
    },
    {
      "cell_type": "code",
      "execution_count": 7,
      "id": "c200c170",
      "metadata": {
        "id": "c200c170"
      },
      "outputs": [
        {
          "name": "stderr",
          "output_type": "stream",
          "text": [
            "Loading checkpoint shards: 100%|██████████| 2/2 [00:04<00:00,  2.44s/it]\n"
          ]
        }
      ],
      "source": [
        "tokenizer = AutoTokenizer.from_pretrained(\"facebook/esm2_t36_3B_UR50D\")\n",
        "model = EsmForMaskedLM.from_pretrained(\"facebook/esm2_t36_3B_UR50D\")"
      ]
    },
    {
      "cell_type": "code",
      "execution_count": 8,
      "id": "57482979",
      "metadata": {},
      "outputs": [],
      "source": [
        "class FastaDataset(Dataset):\n",
        "    def __init__(self, fasta_df, tokenizer, max_length=512):\n",
        "        self.fasta_df = fasta_df\n",
        "        self.tokenizer = tokenizer\n",
        "        self.max_length = max_length\n",
        "\n",
        "    def __len__(self):\n",
        "        return len(self.fasta_df)\n",
        "\n",
        "    def __getitem__(self, idx):\n",
        "        fasta_row = self.fasta_df.iloc[idx]\n",
        "        latency_time_stamps = []\n",
        "        # TIME LOG: start\n",
        "        latency_time_stamps.append(perf_counter_ns())\n",
        "\n",
        "        # Tokenize the input and move it to the correct device\n",
        "        inputs = tokenizer(fasta_row[\"Masked_Sequence\"], max_length=min(len(fasta_row[\"Masked_Sequence\"]), SEQ_MAX_LEN), truncation=True, return_tensors='pt')\n",
        "        \n",
        "        # TIME LOG: tokenize\n",
        "        latency_time_stamps.append(perf_counter_ns())\n",
        "        \n",
        "        inputs = {k: v.to(device) for k, v in inputs.items()}\n",
        "        \n",
        "        # TIME LOG: move_to_gpu\n",
        "        latency_time_stamps.append(perf_counter_ns())\n",
        "        \n",
        "        unmasked_text = fasta_row['Sequence']\n",
        "        masked_text = fasta_row[\"Masked_Sequence\"]\n",
        "        mask_position = masked_text.find('<mask>')\n",
        "        actual_token = unmasked_text[mask_position]\n",
        "        \n",
        "        with torch.no_grad():\n",
        "            logits = model(**inputs).logits\n",
        "        \n",
        "        # TIME LOG: model\n",
        "        latency_time_stamps.append(perf_counter_ns())\n",
        "\n",
        "        # Convert the actual token to its corresponding ID\n",
        "        actual_token_id = tokenizer.encode(actual_token, add_special_tokens=False)[0]\n",
        "\n",
        "        # Prepare the target tensor\n",
        "        target = torch.tensor([actual_token_id] + np.zeros(33, dtype=np.longlong), device=device).unsqueeze(0)\n",
        "        \n",
        "        # Calculate the cross-entropy loss\n",
        "        loss = loss_fn(logits, target)\n",
        "        \n",
        "        return loss, latency_time_stamps, fasta_row"
      ]
    },
    {
      "cell_type": "code",
      "execution_count": 9,
      "id": "64ede7e4",
      "metadata": {},
      "outputs": [],
      "source": [
        "# Instantiate the dataset\n",
        "fasta_dataset = FastaDataset(fasta_df, tokenizer)\n",
        "\n",
        "# Create a DataLoader\n",
        "batch_size = 8\n",
        "dataloader = DataLoader(fasta_dataset, batch_size=batch_size, shuffle=False)"
      ]
    },
    {
      "cell_type": "code",
      "execution_count": 10,
      "id": "7530acda",
      "metadata": {},
      "outputs": [
        {
          "data": {
            "text/plain": [
              "EsmForMaskedLM(\n",
              "  (esm): EsmModel(\n",
              "    (embeddings): EsmEmbeddings(\n",
              "      (word_embeddings): Embedding(33, 2560, padding_idx=1)\n",
              "      (dropout): Dropout(p=0.0, inplace=False)\n",
              "      (position_embeddings): Embedding(1026, 2560, padding_idx=1)\n",
              "    )\n",
              "    (encoder): EsmEncoder(\n",
              "      (layer): ModuleList(\n",
              "        (0-35): 36 x EsmLayer(\n",
              "          (attention): EsmAttention(\n",
              "            (self): EsmSelfAttention(\n",
              "              (query): Linear(in_features=2560, out_features=2560, bias=True)\n",
              "              (key): Linear(in_features=2560, out_features=2560, bias=True)\n",
              "              (value): Linear(in_features=2560, out_features=2560, bias=True)\n",
              "              (dropout): Dropout(p=0.0, inplace=False)\n",
              "              (rotary_embeddings): RotaryEmbedding()\n",
              "            )\n",
              "            (output): EsmSelfOutput(\n",
              "              (dense): Linear(in_features=2560, out_features=2560, bias=True)\n",
              "              (dropout): Dropout(p=0.0, inplace=False)\n",
              "            )\n",
              "            (LayerNorm): LayerNorm((2560,), eps=1e-05, elementwise_affine=True)\n",
              "          )\n",
              "          (intermediate): EsmIntermediate(\n",
              "            (dense): Linear(in_features=2560, out_features=10240, bias=True)\n",
              "          )\n",
              "          (output): EsmOutput(\n",
              "            (dense): Linear(in_features=10240, out_features=2560, bias=True)\n",
              "            (dropout): Dropout(p=0.0, inplace=False)\n",
              "          )\n",
              "          (LayerNorm): LayerNorm((2560,), eps=1e-05, elementwise_affine=True)\n",
              "        )\n",
              "      )\n",
              "      (emb_layer_norm_after): LayerNorm((2560,), eps=1e-05, elementwise_affine=True)\n",
              "    )\n",
              "    (contact_head): EsmContactPredictionHead(\n",
              "      (regression): Linear(in_features=1440, out_features=1, bias=True)\n",
              "      (activation): Sigmoid()\n",
              "    )\n",
              "  )\n",
              "  (lm_head): EsmLMHead(\n",
              "    (dense): Linear(in_features=2560, out_features=2560, bias=True)\n",
              "    (layer_norm): LayerNorm((2560,), eps=1e-05, elementwise_affine=True)\n",
              "    (decoder): Linear(in_features=2560, out_features=33, bias=False)\n",
              "  )\n",
              ")"
            ]
          },
          "execution_count": 10,
          "metadata": {},
          "output_type": "execute_result"
        }
      ],
      "source": [
        "# Ensure the model is in evaluation mode\n",
        "model.eval()\n",
        "\n",
        "model.to(device)"
      ]
    },
    {
      "cell_type": "markdown",
      "id": "3dd8e7e2",
      "metadata": {},
      "source": [
        "# TODO: Revamp following code to implement Datasets and DataLoaders"
      ]
    },
    {
      "cell_type": "code",
      "execution_count": 11,
      "id": "05ac6543",
      "metadata": {},
      "outputs": [
        {
          "name": "stdout",
          "output_type": "stream",
          "text": [
            "Running test on 8000 sequences.\n",
            "Processing... 0.00%\n"
          ]
        },
        {
          "ename": "RuntimeError",
          "evalue": "stack expects each tensor to be equal size, but got [1, 3687, 33] at entry 0 and [1, 1059, 33] at entry 1",
          "output_type": "error",
          "traceback": [
            "\u001b[1;31m---------------------------------------------------------------------------\u001b[0m",
            "\u001b[1;31mRuntimeError\u001b[0m                              Traceback (most recent call last)",
            "Cell \u001b[1;32mIn[11], line 47\u001b[0m\n\u001b[0;32m     44\u001b[0m \u001b[38;5;66;03m# load model to GPU\u001b[39;00m\n\u001b[0;32m     45\u001b[0m model\u001b[38;5;241m.\u001b[39mto(device)\n\u001b[1;32m---> 47\u001b[0m sequence_length\u001b[38;5;241m.\u001b[39mappend(\u001b[43mrun\u001b[49m\u001b[43m(\u001b[49m\u001b[43maccuracy\u001b[49m\u001b[43m,\u001b[49m\u001b[43m \u001b[49m\u001b[43mlatency\u001b[49m\u001b[43m,\u001b[49m\u001b[43m \u001b[49m\u001b[43mdataloader\u001b[49m\u001b[43m)\u001b[49m)\n\u001b[0;32m     49\u001b[0m \u001b[38;5;66;03m# try to remove anything no longer needed on the GPU mem\u001b[39;00m\n\u001b[0;32m     50\u001b[0m gc\u001b[38;5;241m.\u001b[39mcollect()\n",
            "File \u001b[1;32mc:\\Users\\lgltan\\AppData\\Local\\Programs\\Python\\Python312\\Lib\\site-packages\\pyJoules\\energy_meter.py:296\u001b[0m, in \u001b[0;36mmeasure_energy.<locals>.decorator_measure_energy.<locals>.wrapper_measure\u001b[1;34m(*args, **kwargs)\u001b[0m\n\u001b[0;32m    293\u001b[0m \u001b[38;5;129m@functools\u001b[39m\u001b[38;5;241m.\u001b[39mwraps(func)\n\u001b[0;32m    294\u001b[0m \u001b[38;5;28;01mdef\u001b[39;00m \u001b[38;5;21mwrapper_measure\u001b[39m(\u001b[38;5;241m*\u001b[39margs, \u001b[38;5;241m*\u001b[39m\u001b[38;5;241m*\u001b[39mkwargs):\n\u001b[0;32m    295\u001b[0m     energy_meter\u001b[38;5;241m.\u001b[39mstart(tag\u001b[38;5;241m=\u001b[39mfunc\u001b[38;5;241m.\u001b[39m\u001b[38;5;18m__name__\u001b[39m)\n\u001b[1;32m--> 296\u001b[0m     val \u001b[38;5;241m=\u001b[39m \u001b[43mfunc\u001b[49m\u001b[43m(\u001b[49m\u001b[38;5;241;43m*\u001b[39;49m\u001b[43margs\u001b[49m\u001b[43m,\u001b[49m\u001b[43m \u001b[49m\u001b[38;5;241;43m*\u001b[39;49m\u001b[38;5;241;43m*\u001b[39;49m\u001b[43mkwargs\u001b[49m\u001b[43m)\u001b[49m\n\u001b[0;32m    297\u001b[0m     energy_meter\u001b[38;5;241m.\u001b[39mstop()\n\u001b[0;32m    298\u001b[0m     handler\u001b[38;5;241m.\u001b[39mprocess(energy_meter\u001b[38;5;241m.\u001b[39mget_trace())\n",
            "Cell \u001b[1;32mIn[11], line 17\u001b[0m, in \u001b[0;36mrun\u001b[1;34m(accuracy, latency, dataloader)\u001b[0m\n\u001b[0;32m     15\u001b[0m \u001b[38;5;129m@measure_energy\u001b[39m(domains\u001b[38;5;241m=\u001b[39m[NvidiaGPUDomain(\u001b[38;5;241m0\u001b[39m)], handler\u001b[38;5;241m=\u001b[39mpandas_handler)\n\u001b[0;32m     16\u001b[0m \u001b[38;5;28;01mdef\u001b[39;00m \u001b[38;5;21mrun\u001b[39m(accuracy, latency, dataloader):\n\u001b[1;32m---> 17\u001b[0m     logits, target, latency_time_stamps, fasta_row \u001b[38;5;241m=\u001b[39m \u001b[38;5;28;43mnext\u001b[39;49m\u001b[43m(\u001b[49m\u001b[38;5;28;43miter\u001b[39;49m\u001b[43m(\u001b[49m\u001b[43mdataloader\u001b[49m\u001b[43m)\u001b[49m\u001b[43m)\u001b[49m\n\u001b[0;32m     18\u001b[0m     \u001b[38;5;66;03m# Calculate the cross-entropy loss\u001b[39;00m\n\u001b[0;32m     19\u001b[0m     loss \u001b[38;5;241m=\u001b[39m loss_fn(logits, target)\n",
            "File \u001b[1;32mc:\\Users\\lgltan\\AppData\\Local\\Programs\\Python\\Python312\\Lib\\site-packages\\torch\\utils\\data\\dataloader.py:631\u001b[0m, in \u001b[0;36m_BaseDataLoaderIter.__next__\u001b[1;34m(self)\u001b[0m\n\u001b[0;32m    628\u001b[0m \u001b[38;5;28;01mif\u001b[39;00m \u001b[38;5;28mself\u001b[39m\u001b[38;5;241m.\u001b[39m_sampler_iter \u001b[38;5;129;01mis\u001b[39;00m \u001b[38;5;28;01mNone\u001b[39;00m:\n\u001b[0;32m    629\u001b[0m     \u001b[38;5;66;03m# TODO(https://github.com/pytorch/pytorch/issues/76750)\u001b[39;00m\n\u001b[0;32m    630\u001b[0m     \u001b[38;5;28mself\u001b[39m\u001b[38;5;241m.\u001b[39m_reset()  \u001b[38;5;66;03m# type: ignore[call-arg]\u001b[39;00m\n\u001b[1;32m--> 631\u001b[0m data \u001b[38;5;241m=\u001b[39m \u001b[38;5;28;43mself\u001b[39;49m\u001b[38;5;241;43m.\u001b[39;49m\u001b[43m_next_data\u001b[49m\u001b[43m(\u001b[49m\u001b[43m)\u001b[49m\n\u001b[0;32m    632\u001b[0m \u001b[38;5;28mself\u001b[39m\u001b[38;5;241m.\u001b[39m_num_yielded \u001b[38;5;241m+\u001b[39m\u001b[38;5;241m=\u001b[39m \u001b[38;5;241m1\u001b[39m\n\u001b[0;32m    633\u001b[0m \u001b[38;5;28;01mif\u001b[39;00m \u001b[38;5;28mself\u001b[39m\u001b[38;5;241m.\u001b[39m_dataset_kind \u001b[38;5;241m==\u001b[39m _DatasetKind\u001b[38;5;241m.\u001b[39mIterable \u001b[38;5;129;01mand\u001b[39;00m \\\n\u001b[0;32m    634\u001b[0m         \u001b[38;5;28mself\u001b[39m\u001b[38;5;241m.\u001b[39m_IterableDataset_len_called \u001b[38;5;129;01mis\u001b[39;00m \u001b[38;5;129;01mnot\u001b[39;00m \u001b[38;5;28;01mNone\u001b[39;00m \u001b[38;5;129;01mand\u001b[39;00m \\\n\u001b[0;32m    635\u001b[0m         \u001b[38;5;28mself\u001b[39m\u001b[38;5;241m.\u001b[39m_num_yielded \u001b[38;5;241m>\u001b[39m \u001b[38;5;28mself\u001b[39m\u001b[38;5;241m.\u001b[39m_IterableDataset_len_called:\n",
            "File \u001b[1;32mc:\\Users\\lgltan\\AppData\\Local\\Programs\\Python\\Python312\\Lib\\site-packages\\torch\\utils\\data\\dataloader.py:675\u001b[0m, in \u001b[0;36m_SingleProcessDataLoaderIter._next_data\u001b[1;34m(self)\u001b[0m\n\u001b[0;32m    673\u001b[0m \u001b[38;5;28;01mdef\u001b[39;00m \u001b[38;5;21m_next_data\u001b[39m(\u001b[38;5;28mself\u001b[39m):\n\u001b[0;32m    674\u001b[0m     index \u001b[38;5;241m=\u001b[39m \u001b[38;5;28mself\u001b[39m\u001b[38;5;241m.\u001b[39m_next_index()  \u001b[38;5;66;03m# may raise StopIteration\u001b[39;00m\n\u001b[1;32m--> 675\u001b[0m     data \u001b[38;5;241m=\u001b[39m \u001b[38;5;28;43mself\u001b[39;49m\u001b[38;5;241;43m.\u001b[39;49m\u001b[43m_dataset_fetcher\u001b[49m\u001b[38;5;241;43m.\u001b[39;49m\u001b[43mfetch\u001b[49m\u001b[43m(\u001b[49m\u001b[43mindex\u001b[49m\u001b[43m)\u001b[49m  \u001b[38;5;66;03m# may raise StopIteration\u001b[39;00m\n\u001b[0;32m    676\u001b[0m     \u001b[38;5;28;01mif\u001b[39;00m \u001b[38;5;28mself\u001b[39m\u001b[38;5;241m.\u001b[39m_pin_memory:\n\u001b[0;32m    677\u001b[0m         data \u001b[38;5;241m=\u001b[39m _utils\u001b[38;5;241m.\u001b[39mpin_memory\u001b[38;5;241m.\u001b[39mpin_memory(data, \u001b[38;5;28mself\u001b[39m\u001b[38;5;241m.\u001b[39m_pin_memory_device)\n",
            "File \u001b[1;32mc:\\Users\\lgltan\\AppData\\Local\\Programs\\Python\\Python312\\Lib\\site-packages\\torch\\utils\\data\\_utils\\fetch.py:54\u001b[0m, in \u001b[0;36m_MapDatasetFetcher.fetch\u001b[1;34m(self, possibly_batched_index)\u001b[0m\n\u001b[0;32m     52\u001b[0m \u001b[38;5;28;01melse\u001b[39;00m:\n\u001b[0;32m     53\u001b[0m     data \u001b[38;5;241m=\u001b[39m \u001b[38;5;28mself\u001b[39m\u001b[38;5;241m.\u001b[39mdataset[possibly_batched_index]\n\u001b[1;32m---> 54\u001b[0m \u001b[38;5;28;01mreturn\u001b[39;00m \u001b[38;5;28;43mself\u001b[39;49m\u001b[38;5;241;43m.\u001b[39;49m\u001b[43mcollate_fn\u001b[49m\u001b[43m(\u001b[49m\u001b[43mdata\u001b[49m\u001b[43m)\u001b[49m\n",
            "File \u001b[1;32mc:\\Users\\lgltan\\AppData\\Local\\Programs\\Python\\Python312\\Lib\\site-packages\\torch\\utils\\data\\_utils\\collate.py:277\u001b[0m, in \u001b[0;36mdefault_collate\u001b[1;34m(batch)\u001b[0m\n\u001b[0;32m    216\u001b[0m \u001b[38;5;28;01mdef\u001b[39;00m \u001b[38;5;21mdefault_collate\u001b[39m(batch):\n\u001b[0;32m    217\u001b[0m \u001b[38;5;250m    \u001b[39m\u001b[38;5;124mr\u001b[39m\u001b[38;5;124;03m\"\"\"\u001b[39;00m\n\u001b[0;32m    218\u001b[0m \u001b[38;5;124;03m    Take in a batch of data and put the elements within the batch into a tensor with an additional outer dimension - batch size.\u001b[39;00m\n\u001b[0;32m    219\u001b[0m \n\u001b[1;32m   (...)\u001b[0m\n\u001b[0;32m    275\u001b[0m \u001b[38;5;124;03m        >>> default_collate(batch)  # Handle `CustomType` automatically\u001b[39;00m\n\u001b[0;32m    276\u001b[0m \u001b[38;5;124;03m    \"\"\"\u001b[39;00m\n\u001b[1;32m--> 277\u001b[0m     \u001b[38;5;28;01mreturn\u001b[39;00m \u001b[43mcollate\u001b[49m\u001b[43m(\u001b[49m\u001b[43mbatch\u001b[49m\u001b[43m,\u001b[49m\u001b[43m \u001b[49m\u001b[43mcollate_fn_map\u001b[49m\u001b[38;5;241;43m=\u001b[39;49m\u001b[43mdefault_collate_fn_map\u001b[49m\u001b[43m)\u001b[49m\n",
            "File \u001b[1;32mc:\\Users\\lgltan\\AppData\\Local\\Programs\\Python\\Python312\\Lib\\site-packages\\torch\\utils\\data\\_utils\\collate.py:144\u001b[0m, in \u001b[0;36mcollate\u001b[1;34m(batch, collate_fn_map)\u001b[0m\n\u001b[0;32m    141\u001b[0m transposed \u001b[38;5;241m=\u001b[39m \u001b[38;5;28mlist\u001b[39m(\u001b[38;5;28mzip\u001b[39m(\u001b[38;5;241m*\u001b[39mbatch))  \u001b[38;5;66;03m# It may be accessed twice, so we use a list.\u001b[39;00m\n\u001b[0;32m    143\u001b[0m \u001b[38;5;28;01mif\u001b[39;00m \u001b[38;5;28misinstance\u001b[39m(elem, \u001b[38;5;28mtuple\u001b[39m):\n\u001b[1;32m--> 144\u001b[0m     \u001b[38;5;28;01mreturn\u001b[39;00m [\u001b[43mcollate\u001b[49m\u001b[43m(\u001b[49m\u001b[43msamples\u001b[49m\u001b[43m,\u001b[49m\u001b[43m \u001b[49m\u001b[43mcollate_fn_map\u001b[49m\u001b[38;5;241;43m=\u001b[39;49m\u001b[43mcollate_fn_map\u001b[49m\u001b[43m)\u001b[49m \u001b[38;5;28;01mfor\u001b[39;00m samples \u001b[38;5;129;01min\u001b[39;00m transposed]  \u001b[38;5;66;03m# Backwards compatibility.\u001b[39;00m\n\u001b[0;32m    145\u001b[0m \u001b[38;5;28;01melse\u001b[39;00m:\n\u001b[0;32m    146\u001b[0m     \u001b[38;5;28;01mtry\u001b[39;00m:\n",
            "File \u001b[1;32mc:\\Users\\lgltan\\AppData\\Local\\Programs\\Python\\Python312\\Lib\\site-packages\\torch\\utils\\data\\_utils\\collate.py:121\u001b[0m, in \u001b[0;36mcollate\u001b[1;34m(batch, collate_fn_map)\u001b[0m\n\u001b[0;32m    119\u001b[0m \u001b[38;5;28;01mif\u001b[39;00m collate_fn_map \u001b[38;5;129;01mis\u001b[39;00m \u001b[38;5;129;01mnot\u001b[39;00m \u001b[38;5;28;01mNone\u001b[39;00m:\n\u001b[0;32m    120\u001b[0m     \u001b[38;5;28;01mif\u001b[39;00m elem_type \u001b[38;5;129;01min\u001b[39;00m collate_fn_map:\n\u001b[1;32m--> 121\u001b[0m         \u001b[38;5;28;01mreturn\u001b[39;00m \u001b[43mcollate_fn_map\u001b[49m\u001b[43m[\u001b[49m\u001b[43melem_type\u001b[49m\u001b[43m]\u001b[49m\u001b[43m(\u001b[49m\u001b[43mbatch\u001b[49m\u001b[43m,\u001b[49m\u001b[43m \u001b[49m\u001b[43mcollate_fn_map\u001b[49m\u001b[38;5;241;43m=\u001b[39;49m\u001b[43mcollate_fn_map\u001b[49m\u001b[43m)\u001b[49m\n\u001b[0;32m    123\u001b[0m     \u001b[38;5;28;01mfor\u001b[39;00m collate_type \u001b[38;5;129;01min\u001b[39;00m collate_fn_map:\n\u001b[0;32m    124\u001b[0m         \u001b[38;5;28;01mif\u001b[39;00m \u001b[38;5;28misinstance\u001b[39m(elem, collate_type):\n",
            "File \u001b[1;32mc:\\Users\\lgltan\\AppData\\Local\\Programs\\Python\\Python312\\Lib\\site-packages\\torch\\utils\\data\\_utils\\collate.py:174\u001b[0m, in \u001b[0;36mcollate_tensor_fn\u001b[1;34m(batch, collate_fn_map)\u001b[0m\n\u001b[0;32m    172\u001b[0m     storage \u001b[38;5;241m=\u001b[39m elem\u001b[38;5;241m.\u001b[39m_typed_storage()\u001b[38;5;241m.\u001b[39m_new_shared(numel, device\u001b[38;5;241m=\u001b[39melem\u001b[38;5;241m.\u001b[39mdevice)\n\u001b[0;32m    173\u001b[0m     out \u001b[38;5;241m=\u001b[39m elem\u001b[38;5;241m.\u001b[39mnew(storage)\u001b[38;5;241m.\u001b[39mresize_(\u001b[38;5;28mlen\u001b[39m(batch), \u001b[38;5;241m*\u001b[39m\u001b[38;5;28mlist\u001b[39m(elem\u001b[38;5;241m.\u001b[39msize()))\n\u001b[1;32m--> 174\u001b[0m \u001b[38;5;28;01mreturn\u001b[39;00m \u001b[43mtorch\u001b[49m\u001b[38;5;241;43m.\u001b[39;49m\u001b[43mstack\u001b[49m\u001b[43m(\u001b[49m\u001b[43mbatch\u001b[49m\u001b[43m,\u001b[49m\u001b[43m \u001b[49m\u001b[38;5;241;43m0\u001b[39;49m\u001b[43m,\u001b[49m\u001b[43m \u001b[49m\u001b[43mout\u001b[49m\u001b[38;5;241;43m=\u001b[39;49m\u001b[43mout\u001b[49m\u001b[43m)\u001b[49m\n",
            "\u001b[1;31mRuntimeError\u001b[0m: stack expects each tensor to be equal size, but got [1, 3687, 33] at entry 0 and [1, 1059, 33] at entry 1"
          ]
        }
      ],
      "source": [
        "print(f\"Running test on {fasta_df.shape[0]} sequences.\")\n",
        "\n",
        "gc.disable()\n",
        "\n",
        "# set up accuracy & latency info - leave this in the same code block so that it resets each time\n",
        "accuracy = []\n",
        "latency = pd.DataFrame(columns=['start', 'tokenize', 'move_to_gpu', 'model', \"end\"])\n",
        "sequence_length = []\n",
        "# memory_usage = []\n",
        "ctr = 0\n",
        "\n",
        "loss_fn = nn.CrossEntropyLoss()\n",
        "pandas_handler = PandasHandler()\n",
        "\n",
        "@measure_energy(domains=[NvidiaGPUDomain(0)], handler=pandas_handler)\n",
        "def run(accuracy, latency, dataloader):\n",
        "    loss, latency_time_stamps, fasta_row = next(iter(dataloader))\n",
        "\n",
        "    # TIME LOG: end\n",
        "    latency_time_stamps.append(perf_counter_ns())\n",
        "\n",
        "    # Append the loss to a list or use it as needed\n",
        "    accuracy.append(loss.item())\n",
        "        \n",
        "    # memory_usage.append(torch.cuda.memory_allocated())\n",
        "\n",
        "    latency.loc[len(latency.index)] = latency_time_stamps\n",
        "    \n",
        "    return len(fasta_row[\"Sequence\"])\n",
        "\n",
        "torch.cuda.empty_cache()\n",
        "\n",
        "for ctr in range(fasta_df.shape[0]):\n",
        "    if ctr % 100 == 0:\n",
        "        percentage = \"{:.2f}\".format(ctr * 100 / fasta_df.shape[0])\n",
        "        print(f\"Processing... {percentage}%\")\n",
        "\n",
        "    torch.cuda.empty_cache()\n",
        "    # try to save as much memory as possible by reducing fragmentation\n",
        "    gc.collect()\n",
        "    \n",
        "    # load model to GPU\n",
        "    model.to(device)\n",
        "\n",
        "    sequence_length.append(run(accuracy, latency, dataloader))\n",
        "    \n",
        "    # try to remove anything no longer needed on the GPU mem\n",
        "    gc.collect()\n",
        "            \n",
        "gc.enable()\n",
        "gpu_util_df = pandas_handler.get_dataframe()"
      ]
    },
    {
      "cell_type": "markdown",
      "id": "7fc62767",
      "metadata": {},
      "source": [
        "Due to memory constraints, sequences over 10k characters in length have been dropped from the dataset for this model; hence only 1 set of graphs are made"
      ]
    },
    {
      "cell_type": "markdown",
      "id": "3cbc7ea5",
      "metadata": {},
      "source": [
        "### Cross Entropy Loss x Sequence Length"
      ]
    },
    {
      "cell_type": "code",
      "execution_count": null,
      "id": "9e389c03",
      "metadata": {},
      "outputs": [],
      "source": [
        "# Create a scatter plot\n",
        "plt.scatter(sequence_length, accuracy)\n",
        "\n",
        "# Label the axes\n",
        "plt.xlabel('Sequence Length')\n",
        "plt.ylabel('Cross Entropy Loss')\n",
        "\n",
        "# Add a title\n",
        "plt.title('Sequence Length vs. Cross Entropy Loss')\n",
        "\n",
        "# Display the plot\n",
        "plt.show()"
      ]
    },
    {
      "cell_type": "markdown",
      "id": "277350aa",
      "metadata": {},
      "source": [
        "## Latency/Time Log"
      ]
    },
    {
      "cell_type": "code",
      "execution_count": null,
      "id": "9e828976",
      "metadata": {},
      "outputs": [],
      "source": [
        "# latency = pd.DataFrame(columns=['start', 'tokenize', 'move_to_gpu', 'model', \"end\"])\n",
        "# get_cel = get cross entropy loss\n",
        "latency_df = pd.DataFrame(columns=['tokenization', 'move_inputs_to_gpu', 'model_process', 'cross_entropy_loss'])\n",
        "\n",
        "latency_df[\"tokenization\"] = latency[\"tokenize\"] - latency[\"start\"]\n",
        "latency_df[\"move_inputs_to_gpu\"] = latency[\"move_to_gpu\"] - latency[\"tokenize\"]\n",
        "latency_df[\"model_process\"] = latency[\"model\"] - latency[\"move_to_gpu\"]\n",
        "latency_df[\"cross_entropy_loss\"] = latency[\"end\"] - latency[\"model\"]\n",
        "\n",
        "latency_sums = latency_df.sum()\n",
        "# Create a bar plot\n",
        "latency_sums.plot(kind='bar')\n",
        "\n",
        "# Add title and labels\n",
        "plt.title('Total Latency per Step')\n",
        "\n",
        "# Display the plot\n",
        "plt.show()"
      ]
    },
    {
      "cell_type": "markdown",
      "id": "cd006353",
      "metadata": {},
      "source": [
        "### Latency & GPU Usage vs Sequence Length"
      ]
    },
    {
      "cell_type": "code",
      "execution_count": null,
      "id": "89cb4527",
      "metadata": {},
      "outputs": [],
      "source": [
        "gpu_util_df.head()"
      ]
    },
    {
      "cell_type": "code",
      "execution_count": null,
      "id": "9618d45e",
      "metadata": {},
      "outputs": [],
      "source": [
        "# Normalize Duration\n",
        "duration = gpu_util_df[\"duration\"] * 100000\n",
        "\n",
        "lat_gpu_slen = {\"Latency\": duration, \"GPU_Utilization\": gpu_util_df[\"nvidia_gpu_0\"], \"Sequence_Length\": sequence_length}\n",
        "lat_gpu_slen_df = pd.DataFrame(lat_gpu_slen)\n",
        "lat_gpu_slen_df = lat_gpu_slen_df.sort_values(by = 'Sequence_Length')\n",
        "\n",
        "# Plot multiple lines\n",
        "plt.plot(lat_gpu_slen_df[\"Sequence_Length\"], lat_gpu_slen_df[\"GPU_Utilization\"], label='GPU_Utilization')\n",
        "plt.plot(lat_gpu_slen_df[\"Sequence_Length\"], lat_gpu_slen_df[\"Latency\"], label='Latency')\n",
        "\n",
        "plt.xlabel('Sequence Length')\n",
        "plt.ylabel('10ns / Joule')\n",
        "\n",
        "plt.title(\"Latency/GPU Util vs Sequence Length\")\n",
        "plt.legend()\n",
        "\n",
        "plt.show()"
      ]
    }
  ],
  "metadata": {
    "colab": {
      "provenance": []
    },
    "kernelspec": {
      "display_name": "Python 3 (ipykernel)",
      "language": "python",
      "name": "python3"
    },
    "language_info": {
      "codemirror_mode": {
        "name": "ipython",
        "version": 3
      },
      "file_extension": ".py",
      "mimetype": "text/x-python",
      "name": "python",
      "nbconvert_exporter": "python",
      "pygments_lexer": "ipython3",
      "version": "3.12.1"
    }
  },
  "nbformat": 4,
  "nbformat_minor": 5
}
