{
  "cells": [
    {
      "cell_type": "code",
      "execution_count": 1,
      "id": "68ea93eb",
      "metadata": {},
      "outputs": [
        {
          "name": "stderr",
          "output_type": "stream",
          "text": [
            "c:\\Users\\lgltan\\AppData\\Local\\Programs\\Python\\Python312\\Lib\\site-packages\\tqdm\\auto.py:21: TqdmWarning: IProgress not found. Please update jupyter and ipywidgets. See https://ipywidgets.readthedocs.io/en/stable/user_install.html\n",
            "  from .autonotebook import tqdm as notebook_tqdm\n"
          ]
        }
      ],
      "source": [
        "import torch\n",
        "from transformers import AutoTokenizer, EsmForMaskedLM\n",
        "from transformers.models.esm.openfold_utils.protein import to_pdb, Protein as OFProtein\n",
        "from transformers.models.esm.openfold_utils.feats import atom14_to_atom37\n",
        "import torch.nn as nn\n",
        "from torch.utils.data import Dataset, DataLoader\n",
        "\n",
        "from pyJoules.device.nvidia_device import NvidiaGPUDomain\n",
        "from pyJoules.handler.pandas_handler import PandasHandler\n",
        "from pyJoules.energy_meter import measure_energy\n",
        "\n",
        "from Bio import SeqIO\n",
        "import pandas as pd\n",
        "import numpy as np\n",
        "from time import perf_counter_ns\n",
        "import matplotlib.pyplot as plt\n",
        "import gc\n",
        "\n",
        "SEQ_MAX_LEN = 8096"
      ]
    },
    {
      "cell_type": "markdown",
      "id": "c07db042",
      "metadata": {},
      "source": [
        "### CUDA/Torch GPU Setup"
      ]
    },
    {
      "cell_type": "code",
      "execution_count": 2,
      "id": "037cb538",
      "metadata": {},
      "outputs": [
        {
          "name": "stdout",
          "output_type": "stream",
          "text": [
            "Using GPU: NVIDIA GeForce RTX 4060 Ti\n"
          ]
        }
      ],
      "source": [
        "if torch.cuda.is_available():\n",
        "    device = torch.device(\"cuda\")\n",
        "    print(\"Using GPU:\", torch.cuda.get_device_name(0))\n",
        "else:\n",
        "    device = torch.device(\"cpu\")\n",
        "    print(\"Using CPU\")"
      ]
    },
    {
      "cell_type": "markdown",
      "id": "c056923a",
      "metadata": {},
      "source": [
        "## Convert FASTA file to pd.DataFrame for easier processing"
      ]
    },
    {
      "cell_type": "code",
      "execution_count": 3,
      "id": "af331da5",
      "metadata": {},
      "outputs": [],
      "source": [
        "def fasta_to_dataframe(fasta_file):\n",
        "    records = []\n",
        "    for seq_record in SeqIO.parse(fasta_file, 'fasta'):\n",
        "        if len(records) >= 8000:\n",
        "            break\n",
        "        # Extract the ID after '>tr'\n",
        "        id_info = seq_record.id.split('|')[1] # Adjust the index based on your FASTA file format\n",
        "        sequence = str(seq_record.seq)\n",
        "        if len(sequence) <= SEQ_MAX_LEN:\n",
        "            # Generate a random index within the range of the sequence length\n",
        "            random_index = np.random.randint(0, min(len(sequence), SEQ_MAX_LEN))\n",
        "            # Replace the character at the random index with '<mask>'\n",
        "            masked_sequence = sequence[:random_index] + '<mask>' + sequence[random_index+1:]\n",
        "            \n",
        "            records.append([id_info, sequence, masked_sequence])\n",
        "    \n",
        "    # Create a DataFrame from the records\n",
        "    df = pd.DataFrame(records, columns=['ID', 'Sequence', 'Masked_Sequence'])\n",
        "    return df"
      ]
    },
    {
      "cell_type": "markdown",
      "id": "4ff414cf",
      "metadata": {},
      "source": [
        "## Create Dataset"
      ]
    },
    {
      "cell_type": "code",
      "execution_count": 4,
      "id": "efe2e930",
      "metadata": {},
      "outputs": [],
      "source": [
        "fasta_df = fasta_to_dataframe(\"human_protein_seq/uniprotkb_proteome_UP000005640.fasta\")"
      ]
    },
    {
      "cell_type": "code",
      "execution_count": 5,
      "id": "c8ee6f32",
      "metadata": {},
      "outputs": [
        {
          "data": {
            "text/html": [
              "<div>\n",
              "<style scoped>\n",
              "    .dataframe tbody tr th:only-of-type {\n",
              "        vertical-align: middle;\n",
              "    }\n",
              "\n",
              "    .dataframe tbody tr th {\n",
              "        vertical-align: top;\n",
              "    }\n",
              "\n",
              "    .dataframe thead th {\n",
              "        text-align: right;\n",
              "    }\n",
              "</style>\n",
              "<table border=\"1\" class=\"dataframe\">\n",
              "  <thead>\n",
              "    <tr style=\"text-align: right;\">\n",
              "      <th></th>\n",
              "      <th>ID</th>\n",
              "      <th>Sequence</th>\n",
              "      <th>Masked_Sequence</th>\n",
              "    </tr>\n",
              "  </thead>\n",
              "  <tbody>\n",
              "    <tr>\n",
              "      <th>0</th>\n",
              "      <td>A0A075B6G3</td>\n",
              "      <td>MLWWEEVEDCYEREDVQKKTFTKWVNAQFSKFGKQHIENLFSDLQD...</td>\n",
              "      <td>MLWWEEVEDCYEREDVQKKTFTKWVNAQFSKFGKQHIENLFSDLQD...</td>\n",
              "    </tr>\n",
              "    <tr>\n",
              "      <th>1</th>\n",
              "      <td>A0A087WV00</td>\n",
              "      <td>MDAAGRGCHLLPLPAARGPARAPAAAAAAAASPPGPCSGAACAPSA...</td>\n",
              "      <td>MDAAGRGCHLLPLPAARGPARAPAAAAAAAASPPGPCSGAACAPSA...</td>\n",
              "    </tr>\n",
              "    <tr>\n",
              "      <th>2</th>\n",
              "      <td>A0A087WZT3</td>\n",
              "      <td>MELSAEYLREKLQRDLEAEHVLPSPGGVGQVRGETAASETQLGS</td>\n",
              "      <td>MELSAEYLREKLQRDLEAEHV&lt;mask&gt;PSPGGVGQVRGETAASETQLGS</td>\n",
              "    </tr>\n",
              "    <tr>\n",
              "      <th>3</th>\n",
              "      <td>A0A087X1C5</td>\n",
              "      <td>MGLEALVPLAMIVAIFLLLVDLMHRHQRWAARYPPGPLPLPGLGNL...</td>\n",
              "      <td>MGLEALVPLAMIVAIFLLLVDLMHRHQRWAARYPPGPLPLPGLGNL...</td>\n",
              "    </tr>\n",
              "    <tr>\n",
              "      <th>4</th>\n",
              "      <td>A0A087X296</td>\n",
              "      <td>MSRSLLLWFLLFLLLLPPLPVLLADPGAPTPVNPCCYYPCQHQGIC...</td>\n",
              "      <td>MSRSLLLWFLLFLLLLPPLPVLLADPGAPTPVNPCCYYPCQHQGIC...</td>\n",
              "    </tr>\n",
              "  </tbody>\n",
              "</table>\n",
              "</div>"
            ],
            "text/plain": [
              "           ID                                           Sequence  \\\n",
              "0  A0A075B6G3  MLWWEEVEDCYEREDVQKKTFTKWVNAQFSKFGKQHIENLFSDLQD...   \n",
              "1  A0A087WV00  MDAAGRGCHLLPLPAARGPARAPAAAAAAAASPPGPCSGAACAPSA...   \n",
              "2  A0A087WZT3       MELSAEYLREKLQRDLEAEHVLPSPGGVGQVRGETAASETQLGS   \n",
              "3  A0A087X1C5  MGLEALVPLAMIVAIFLLLVDLMHRHQRWAARYPPGPLPLPGLGNL...   \n",
              "4  A0A087X296  MSRSLLLWFLLFLLLLPPLPVLLADPGAPTPVNPCCYYPCQHQGIC...   \n",
              "\n",
              "                                     Masked_Sequence  \n",
              "0  MLWWEEVEDCYEREDVQKKTFTKWVNAQFSKFGKQHIENLFSDLQD...  \n",
              "1  MDAAGRGCHLLPLPAARGPARAPAAAAAAAASPPGPCSGAACAPSA...  \n",
              "2  MELSAEYLREKLQRDLEAEHV<mask>PSPGGVGQVRGETAASETQLGS  \n",
              "3  MGLEALVPLAMIVAIFLLLVDLMHRHQRWAARYPPGPLPLPGLGNL...  \n",
              "4  MSRSLLLWFLLFLLLLPPLPVLLADPGAPTPVNPCCYYPCQHQGIC...  "
            ]
          },
          "execution_count": 5,
          "metadata": {},
          "output_type": "execute_result"
        }
      ],
      "source": [
        "fasta_df.head()"
      ]
    },
    {
      "cell_type": "code",
      "execution_count": 6,
      "id": "931f1a97",
      "metadata": {},
      "outputs": [
        {
          "data": {
            "text/plain": [
              "(8000, 3)"
            ]
          },
          "execution_count": 6,
          "metadata": {},
          "output_type": "execute_result"
        }
      ],
      "source": [
        "fasta_df.shape"
      ]
    },
    {
      "cell_type": "markdown",
      "id": "1dca9819",
      "metadata": {
        "id": "1dca9819"
      },
      "source": [
        "## Preparing your model and tokenizer"
      ]
    },
    {
      "cell_type": "markdown",
      "id": "c418e286",
      "metadata": {
        "id": "c418e286"
      },
      "source": [
        "Now we load our model and tokenizer. If using GPU, use `model.cuda()` to transfer the model to GPU."
      ]
    },
    {
      "cell_type": "code",
      "execution_count": 7,
      "id": "c200c170",
      "metadata": {
        "id": "c200c170"
      },
      "outputs": [
        {
          "name": "stderr",
          "output_type": "stream",
          "text": [
            "Loading checkpoint shards: 100%|██████████| 2/2 [00:04<00:00,  2.27s/it]\n"
          ]
        }
      ],
      "source": [
        "tokenizer = AutoTokenizer.from_pretrained(\"facebook/esm2_t36_3B_UR50D\")\n",
        "model = EsmForMaskedLM.from_pretrained(\"facebook/esm2_t36_3B_UR50D\")"
      ]
    },
    {
      "cell_type": "code",
      "execution_count": 8,
      "id": "57482979",
      "metadata": {},
      "outputs": [],
      "source": [
        "class FastaDataset(Dataset):\n",
        "    def __init__(self, fasta_df, tokenizer, max_length=512):\n",
        "        self.fasta_df = fasta_df\n",
        "        self.tokenizer = tokenizer\n",
        "        self.max_length = max_length\n",
        "\n",
        "    def __len__(self):\n",
        "        return len(self.fasta_df)\n",
        "\n",
        "    def __getitem__(self, idx):\n",
        "        fasta_row = self.fasta_df.iloc[idx]\n",
        "        latency_time_stamps = []\n",
        "        # TIME LOG: start\n",
        "        latency_time_stamps.append(perf_counter_ns())\n",
        "\n",
        "        # Tokenize the input and move it to the correct device\n",
        "        inputs = tokenizer(fasta_row[\"Masked_Sequence\"], max_length=min(len(fasta_row[\"Masked_Sequence\"]), SEQ_MAX_LEN), truncation=True, return_tensors='pt')\n",
        "        \n",
        "        # TIME LOG: tokenize\n",
        "        latency_time_stamps.append(perf_counter_ns())\n",
        "        \n",
        "        inputs = {k: v.to(device) for k, v in inputs.items()}\n",
        "        \n",
        "        # TIME LOG: move_to_gpu\n",
        "        latency_time_stamps.append(perf_counter_ns())\n",
        "        \n",
        "        unmasked_text = fasta_row['Sequence']\n",
        "        masked_text = fasta_row[\"Masked_Sequence\"]\n",
        "        mask_position = masked_text.find('<mask>')\n",
        "        actual_token = unmasked_text[mask_position]\n",
        "        \n",
        "        with torch.no_grad():\n",
        "            logits = model(**inputs).logits\n",
        "        \n",
        "        # TIME LOG: model\n",
        "        latency_time_stamps.append(perf_counter_ns())\n",
        "\n",
        "        # Convert the actual token to its corresponding ID\n",
        "        actual_token_id = tokenizer.encode(actual_token, add_special_tokens=False)[0]\n",
        "\n",
        "        # Prepare the target tensor\n",
        "        target = torch.tensor([actual_token_id] + np.zeros(33, dtype=np.longlong), device=device).unsqueeze(0)\n",
        "        \n",
        "        return logits, target, latency_time_stamps"
      ]
    },
    {
      "cell_type": "code",
      "execution_count": 9,
      "id": "64ede7e4",
      "metadata": {},
      "outputs": [],
      "source": [
        "# Instantiate the dataset\n",
        "fasta_dataset = FastaDataset(fasta_df, tokenizer)\n",
        "\n",
        "# Create a DataLoader\n",
        "batch_size = 8\n",
        "dataloader = DataLoader(fasta_dataset, batch_size=batch_size, shuffle=False)"
      ]
    },
    {
      "cell_type": "code",
      "execution_count": 10,
      "id": "7530acda",
      "metadata": {},
      "outputs": [
        {
          "data": {
            "text/plain": [
              "EsmForMaskedLM(\n",
              "  (esm): EsmModel(\n",
              "    (embeddings): EsmEmbeddings(\n",
              "      (word_embeddings): Embedding(33, 2560, padding_idx=1)\n",
              "      (dropout): Dropout(p=0.0, inplace=False)\n",
              "      (position_embeddings): Embedding(1026, 2560, padding_idx=1)\n",
              "    )\n",
              "    (encoder): EsmEncoder(\n",
              "      (layer): ModuleList(\n",
              "        (0-35): 36 x EsmLayer(\n",
              "          (attention): EsmAttention(\n",
              "            (self): EsmSelfAttention(\n",
              "              (query): Linear(in_features=2560, out_features=2560, bias=True)\n",
              "              (key): Linear(in_features=2560, out_features=2560, bias=True)\n",
              "              (value): Linear(in_features=2560, out_features=2560, bias=True)\n",
              "              (dropout): Dropout(p=0.0, inplace=False)\n",
              "              (rotary_embeddings): RotaryEmbedding()\n",
              "            )\n",
              "            (output): EsmSelfOutput(\n",
              "              (dense): Linear(in_features=2560, out_features=2560, bias=True)\n",
              "              (dropout): Dropout(p=0.0, inplace=False)\n",
              "            )\n",
              "            (LayerNorm): LayerNorm((2560,), eps=1e-05, elementwise_affine=True)\n",
              "          )\n",
              "          (intermediate): EsmIntermediate(\n",
              "            (dense): Linear(in_features=2560, out_features=10240, bias=True)\n",
              "          )\n",
              "          (output): EsmOutput(\n",
              "            (dense): Linear(in_features=10240, out_features=2560, bias=True)\n",
              "            (dropout): Dropout(p=0.0, inplace=False)\n",
              "          )\n",
              "          (LayerNorm): LayerNorm((2560,), eps=1e-05, elementwise_affine=True)\n",
              "        )\n",
              "      )\n",
              "      (emb_layer_norm_after): LayerNorm((2560,), eps=1e-05, elementwise_affine=True)\n",
              "    )\n",
              "    (contact_head): EsmContactPredictionHead(\n",
              "      (regression): Linear(in_features=1440, out_features=1, bias=True)\n",
              "      (activation): Sigmoid()\n",
              "    )\n",
              "  )\n",
              "  (lm_head): EsmLMHead(\n",
              "    (dense): Linear(in_features=2560, out_features=2560, bias=True)\n",
              "    (layer_norm): LayerNorm((2560,), eps=1e-05, elementwise_affine=True)\n",
              "    (decoder): Linear(in_features=2560, out_features=33, bias=False)\n",
              "  )\n",
              ")"
            ]
          },
          "execution_count": 10,
          "metadata": {},
          "output_type": "execute_result"
        }
      ],
      "source": [
        "# Ensure the model is in evaluation mode\n",
        "model.eval()\n",
        "\n",
        "model.to(device)"
      ]
    },
    {
      "cell_type": "markdown",
      "id": "3dd8e7e2",
      "metadata": {},
      "source": [
        "# TODO: Revamp following code to implement Datasets and DataLoaders"
      ]
    },
    {
      "cell_type": "code",
      "execution_count": null,
      "id": "05ac6543",
      "metadata": {},
      "outputs": [],
      "source": [
        "print(f\"Running test on {fasta_df.shape[0]} sequences.\")\n",
        "\n",
        "gc.disable()\n",
        "\n",
        "# set up accuracy & latency info - leave this in the same code block so that it resets each time\n",
        "accuracy = []\n",
        "latency = pd.DataFrame(columns=['start', 'tokenize', 'move_to_gpu', 'model', \"end\"])\n",
        "sequence_length = []\n",
        "# memory_usage = []\n",
        "ctr = 0\n",
        "\n",
        "loss_fn = nn.CrossEntropyLoss()\n",
        "pandas_handler = PandasHandler()\n",
        "\n",
        "@measure_energy(domains=[NvidiaGPUDomain(0)], handler=pandas_handler)\n",
        "def run(accuracy, latency, dataloader):\n",
        "    logits, target, latency_time_stamps = next(iter(dataloader))\n",
        "    # Calculate the cross-entropy loss\n",
        "    loss = loss_fn(logits, target)\n",
        "\n",
        "    # TIME LOG: end\n",
        "    latency_time_stamps.append(perf_counter_ns())\n",
        "\n",
        "    # Append the loss to a list or use it as needed\n",
        "    accuracy.append(loss.item())\n",
        "        \n",
        "    # memory_usage.append(torch.cuda.memory_allocated())\n",
        "\n",
        "    latency.loc[len(latency.index)] = latency_time_stamps\n",
        "\n",
        "torch.cuda.empty_cache()\n",
        "\n",
        "for ctr in range(fasta_df.shape[0]):\n",
        "    if ctr % 100 == 0:\n",
        "        percentage = \"{:.2f}\".format(ctr * 100 / fasta_df.shape[0])\n",
        "        print(f\"Processing... {percentage}%\")\n",
        "\n",
        "    sequence_length.append(len(fasta_row[\"Sequence\"]))\n",
        "\n",
        "    if len(fasta_row[\"Sequence\"]) > 10000:\n",
        "        print(\"Over Mem: \" + id)\n",
        "    \n",
        "    else:\n",
        "        torch.cuda.empty_cache()\n",
        "        # try to save as much memory as possible by reducing fragmentation\n",
        "        gc.collect()\n",
        "        \n",
        "        # load model to GPU\n",
        "        model.to(device)\n",
        "\n",
        "        run(accuracy, latency, dataloader)\n",
        "        \n",
        "        # try to remove anything no longer needed on the GPU mem\n",
        "        gc.collect()\n",
        "            \n",
        "gc.enable()\n",
        "gpu_util_df = pandas_handler.get_dataframe()"
      ]
    },
    {
      "cell_type": "markdown",
      "id": "7fc62767",
      "metadata": {},
      "source": [
        "Due to memory constraints, sequences over 10k characters in length have been dropped from the dataset for this model; hence only 1 set of graphs are made"
      ]
    },
    {
      "cell_type": "markdown",
      "id": "3cbc7ea5",
      "metadata": {},
      "source": [
        "### Cross Entropy Loss x Sequence Length"
      ]
    },
    {
      "cell_type": "code",
      "execution_count": null,
      "id": "9e389c03",
      "metadata": {},
      "outputs": [],
      "source": [
        "# Create a scatter plot\n",
        "plt.scatter(sequence_length, accuracy)\n",
        "\n",
        "# Label the axes\n",
        "plt.xlabel('Sequence Length')\n",
        "plt.ylabel('Cross Entropy Loss')\n",
        "\n",
        "# Add a title\n",
        "plt.title('Sequence Length vs. Cross Entropy Loss')\n",
        "\n",
        "# Display the plot\n",
        "plt.show()"
      ]
    },
    {
      "cell_type": "markdown",
      "id": "277350aa",
      "metadata": {},
      "source": [
        "## Latency/Time Log"
      ]
    },
    {
      "cell_type": "code",
      "execution_count": null,
      "id": "9e828976",
      "metadata": {},
      "outputs": [],
      "source": [
        "# latency = pd.DataFrame(columns=['start', 'tokenize', 'move_to_gpu', 'model', \"end\"])\n",
        "# get_cel = get cross entropy loss\n",
        "latency_df = pd.DataFrame(columns=['tokenization', 'move_inputs_to_gpu', 'model_process', 'cross_entropy_loss'])\n",
        "\n",
        "latency_df[\"tokenization\"] = latency[\"tokenize\"] - latency[\"start\"]\n",
        "latency_df[\"move_inputs_to_gpu\"] = latency[\"move_to_gpu\"] - latency[\"tokenize\"]\n",
        "latency_df[\"model_process\"] = latency[\"model\"] - latency[\"move_to_gpu\"]\n",
        "latency_df[\"cross_entropy_loss\"] = latency[\"end\"] - latency[\"model\"]\n",
        "\n",
        "latency_sums = latency_df.sum()\n",
        "# Create a bar plot\n",
        "latency_sums.plot(kind='bar')\n",
        "\n",
        "# Add title and labels\n",
        "plt.title('Total Latency per Step')\n",
        "\n",
        "# Display the plot\n",
        "plt.show()"
      ]
    },
    {
      "cell_type": "markdown",
      "id": "cd006353",
      "metadata": {},
      "source": [
        "### Latency & GPU Usage vs Sequence Length"
      ]
    },
    {
      "cell_type": "code",
      "execution_count": null,
      "id": "89cb4527",
      "metadata": {},
      "outputs": [],
      "source": [
        "gpu_util_df.head()"
      ]
    },
    {
      "cell_type": "code",
      "execution_count": null,
      "id": "9618d45e",
      "metadata": {},
      "outputs": [],
      "source": [
        "# Normalize Duration\n",
        "duration = gpu_util_df[\"duration\"] * 100000\n",
        "\n",
        "lat_gpu_slen = {\"Latency\": duration, \"GPU_Utilization\": gpu_util_df[\"nvidia_gpu_0\"], \"Sequence_Length\": sequence_length}\n",
        "lat_gpu_slen_df = pd.DataFrame(lat_gpu_slen)\n",
        "lat_gpu_slen_df = lat_gpu_slen_df.sort_values(by = 'Sequence_Length')\n",
        "\n",
        "# Plot multiple lines\n",
        "plt.plot(lat_gpu_slen_df[\"Sequence_Length\"], lat_gpu_slen_df[\"GPU_Utilization\"], label='GPU_Utilization')\n",
        "plt.plot(lat_gpu_slen_df[\"Sequence_Length\"], lat_gpu_slen_df[\"Latency\"], label='Latency')\n",
        "\n",
        "plt.xlabel('Sequence Length')\n",
        "plt.ylabel('10ns / Joule')\n",
        "\n",
        "plt.title(\"Latency/GPU Util vs Sequence Length\")\n",
        "plt.legend()\n",
        "\n",
        "plt.show()"
      ]
    }
  ],
  "metadata": {
    "colab": {
      "provenance": []
    },
    "kernelspec": {
      "display_name": "Python 3 (ipykernel)",
      "language": "python",
      "name": "python3"
    },
    "language_info": {
      "codemirror_mode": {
        "name": "ipython",
        "version": 3
      },
      "file_extension": ".py",
      "mimetype": "text/x-python",
      "name": "python",
      "nbconvert_exporter": "python",
      "pygments_lexer": "ipython3",
      "version": "3.12.1"
    }
  },
  "nbformat": 4,
  "nbformat_minor": 5
}
